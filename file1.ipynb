{
  "nbformat": 4,
  "nbformat_minor": 0,
  "metadata": {
    "colab": {
      "provenance": [],
      "authorship_tag": "ABX9TyMTIdTJPIywjjeFtSwTY/gx",
      "include_colab_link": true
    },
    "kernelspec": {
      "name": "python3",
      "display_name": "Python 3"
    },
    "language_info": {
      "name": "python"
    }
  },
  "cells": [
    {
      "cell_type": "markdown",
      "metadata": {
        "id": "view-in-github",
        "colab_type": "text"
      },
      "source": [
        "<a href=\"https://colab.research.google.com/github/esusrutha/zeroshot/blob/main/file1.ipynb\" target=\"_parent\"><img src=\"https://colab.research.google.com/assets/colab-badge.svg\" alt=\"Open In Colab\"/></a>"
      ]
    },
    {
      "cell_type": "code",
      "execution_count": null,
      "metadata": {
        "colab": {
          "base_uri": "https://localhost:8080/"
        },
        "id": "YB1bXfeL2oLs",
        "outputId": "4cca011c-40d9-4a03-bdd2-66e0f5946904"
      },
      "outputs": [
        {
          "output_type": "stream",
          "name": "stdout",
          "text": [
            "Drive already mounted at /content/drive; to attempt to forcibly remount, call drive.mount(\"/content/drive\", force_remount=True).\n"
          ]
        }
      ],
      "source": [
        "from google.colab import drive\n",
        "drive.mount('/content/drive')"
      ]
    },
    {
      "cell_type": "code",
      "source": [
        "import pandas as pd\n",
        "\n",
        "# Read in the CSV files\n",
        "RESULTS_DIR = 'drive/MyDrive'\n",
        "df1 = pd.read_csv(RESULTS_DIR + '/D11.csv', encoding='latin1', engine='python')\n",
        "df2 = pd.read_csv(RESULTS_DIR + '/D2.csv', encoding='latin1', engine='python')\n",
        "\n",
        "\n",
        "# Merge the dataframes\n",
        "merged_df = pd.concat([df1, df2], axis=0)\n",
        "\n",
        "# Create a new column called 'category' and initialize it with 'None'\n",
        "merged_df['category'] = None\n",
        "\n",
        "# Create a list of adive,china,mask,news,transporation,usa and vaccine\n",
        "Advice = [\"['Stay at home']\",\"['wash hands']\",\"['wear mask']\",\"['social distancing']\"]\n",
        "China = [\"['Wuhan']\",\"['China Coronavirus Updates']\",\"['China news']\",\"['other tweets related to China']\"]\n",
        "Mask = [\"['Mask shortage']\",\"['wear mask']\",\"['mask types']\",\"['N50']\",\"['N95']\",\"['3M8210']\",\"['3M9001']\",\"['3M9322']\",\"['3M9501']\"]\n",
        "News = [\"['Coronavirus updates']\",\"['news']\",\"['rules']\"]\n",
        "Transportation = [\"['Flights']\",\"['traffic']\",\"['traveling']\"]\n",
        "USA = [\"['U.S. Coronavirus Updates']\",\"['COVID19']\",\"['U.S. news']\",\"['United States']\",\"['US']\",\"['USA']\"]\n",
        "Vaccine = [\"['Vaccine news']\",\"['vaccine progress']\",\"['vaccine injection']\"]\n",
        "\n",
        "# Iterate over the rows of the dataframe\n",
        "for index, row in merged_df.iterrows():\n",
        "    # Check if the hashtags column contains  'Stay at home','wash hands','wear mask' or 'social distancing'\n",
        "    if row['hashtags'] in Advice:\n",
        "        # If it does, set the category to 'Advice'\n",
        "        merged_df.at[index, 'category'] = 'Advice'\n",
        "    elif row['hashtags'] in China:\n",
        "        # If it does, set the category to 'China'\n",
        "        merged_df.at[index, 'category'] = 'China'\n",
        "    elif row['hashtags'] in Mask:\n",
        "        # If it does, set the category to 'Mask'\n",
        "        merged_df.at[index, 'category'] = 'Mask'\n",
        "    elif row['hashtags'] in News:\n",
        "        # If it does, set the category to 'News'\n",
        "        merged_df.at[index, 'category'] = 'News'\n",
        "    elif row['hashtags'] in Transportation:\n",
        "        # If it does, set the category to 'Transportation'\n",
        "        merged_df.at[index, 'category'] = 'Transportation'\n",
        "    elif row['hashtags'] in USA:\n",
        "        # If it does, set the category to 'USA'\n",
        "        merged_df.at[index, 'category'] = 'USA'\n",
        "    elif row['hashtags'] in Vaccine:\n",
        "        # If it does, set the category to 'Vaccine'\n",
        "        merged_df.at[index, 'category'] = 'Vaccine'\n",
        "    \n",
        "# Print the updated dataframe\n",
        "print(merged_df[\"category\"].value_counts())"
      ],
      "metadata": {
        "colab": {
          "base_uri": "https://localhost:8080/"
        },
        "id": "LX5rBzY_2xdM",
        "outputId": "ef1f4a20-3824-4318-a630-9c7f709c9200"
      },
      "execution_count": null,
      "outputs": [
        {
          "output_type": "stream",
          "name": "stdout",
          "text": [
            "Mask              469\n",
            "Advice            311\n",
            "USA               224\n",
            "News              216\n",
            "Vaccine           134\n",
            "Transportation    132\n",
            "China             131\n",
            "Name: category, dtype: int64\n"
          ]
        }
      ]
    },
    {
      "cell_type": "code",
      "source": [
        "pip install -U sentence-transformers"
      ],
      "metadata": {
        "colab": {
          "base_uri": "https://localhost:8080/"
        },
        "id": "t3zl-si76Ro3",
        "outputId": "37bda347-d061-4eeb-ae92-e83bdb44cfd8"
      },
      "execution_count": null,
      "outputs": [
        {
          "output_type": "stream",
          "name": "stdout",
          "text": [
            "Looking in indexes: https://pypi.org/simple, https://us-python.pkg.dev/colab-wheels/public/simple/\n",
            "Requirement already satisfied: sentence-transformers in /usr/local/lib/python3.8/dist-packages (2.2.2)\n",
            "Requirement already satisfied: huggingface-hub>=0.4.0 in /usr/local/lib/python3.8/dist-packages (from sentence-transformers) (0.12.1)\n",
            "Requirement already satisfied: scipy in /usr/local/lib/python3.8/dist-packages (from sentence-transformers) (1.7.3)\n",
            "Requirement already satisfied: transformers<5.0.0,>=4.6.0 in /usr/local/lib/python3.8/dist-packages (from sentence-transformers) (4.26.1)\n",
            "Requirement already satisfied: numpy in /usr/local/lib/python3.8/dist-packages (from sentence-transformers) (1.22.4)\n",
            "Requirement already satisfied: sentencepiece in /usr/local/lib/python3.8/dist-packages (from sentence-transformers) (0.1.97)\n",
            "Requirement already satisfied: nltk in /usr/local/lib/python3.8/dist-packages (from sentence-transformers) (3.7)\n",
            "Requirement already satisfied: tqdm in /usr/local/lib/python3.8/dist-packages (from sentence-transformers) (4.64.1)\n",
            "Requirement already satisfied: torchvision in /usr/local/lib/python3.8/dist-packages (from sentence-transformers) (0.14.1+cu116)\n",
            "Requirement already satisfied: scikit-learn in /usr/local/lib/python3.8/dist-packages (from sentence-transformers) (1.0.2)\n",
            "Requirement already satisfied: torch>=1.6.0 in /usr/local/lib/python3.8/dist-packages (from sentence-transformers) (1.13.1+cu116)\n",
            "Requirement already satisfied: requests in /usr/local/lib/python3.8/dist-packages (from huggingface-hub>=0.4.0->sentence-transformers) (2.25.1)\n",
            "Requirement already satisfied: pyyaml>=5.1 in /usr/local/lib/python3.8/dist-packages (from huggingface-hub>=0.4.0->sentence-transformers) (6.0)\n",
            "Requirement already satisfied: packaging>=20.9 in /usr/local/lib/python3.8/dist-packages (from huggingface-hub>=0.4.0->sentence-transformers) (23.0)\n",
            "Requirement already satisfied: typing-extensions>=3.7.4.3 in /usr/local/lib/python3.8/dist-packages (from huggingface-hub>=0.4.0->sentence-transformers) (4.5.0)\n",
            "Requirement already satisfied: filelock in /usr/local/lib/python3.8/dist-packages (from huggingface-hub>=0.4.0->sentence-transformers) (3.9.0)\n",
            "Requirement already satisfied: tokenizers!=0.11.3,<0.14,>=0.11.1 in /usr/local/lib/python3.8/dist-packages (from transformers<5.0.0,>=4.6.0->sentence-transformers) (0.13.2)\n",
            "Requirement already satisfied: regex!=2019.12.17 in /usr/local/lib/python3.8/dist-packages (from transformers<5.0.0,>=4.6.0->sentence-transformers) (2022.6.2)\n",
            "Requirement already satisfied: joblib in /usr/local/lib/python3.8/dist-packages (from nltk->sentence-transformers) (1.2.0)\n",
            "Requirement already satisfied: click in /usr/local/lib/python3.8/dist-packages (from nltk->sentence-transformers) (7.1.2)\n",
            "Requirement already satisfied: threadpoolctl>=2.0.0 in /usr/local/lib/python3.8/dist-packages (from scikit-learn->sentence-transformers) (3.1.0)\n",
            "Requirement already satisfied: pillow!=8.3.*,>=5.3.0 in /usr/local/lib/python3.8/dist-packages (from torchvision->sentence-transformers) (7.1.2)\n",
            "Requirement already satisfied: urllib3<1.27,>=1.21.1 in /usr/local/lib/python3.8/dist-packages (from requests->huggingface-hub>=0.4.0->sentence-transformers) (1.24.3)\n",
            "Requirement already satisfied: chardet<5,>=3.0.2 in /usr/local/lib/python3.8/dist-packages (from requests->huggingface-hub>=0.4.0->sentence-transformers) (4.0.0)\n",
            "Requirement already satisfied: certifi>=2017.4.17 in /usr/local/lib/python3.8/dist-packages (from requests->huggingface-hub>=0.4.0->sentence-transformers) (2022.12.7)\n",
            "Requirement already satisfied: idna<3,>=2.5 in /usr/local/lib/python3.8/dist-packages (from requests->huggingface-hub>=0.4.0->sentence-transformers) (2.10)\n"
          ]
        }
      ]
    },
    {
      "cell_type": "code",
      "source": [
        "pip install ConceptNet"
      ],
      "metadata": {
        "colab": {
          "base_uri": "https://localhost:8080/"
        },
        "id": "SXCuCOInzF-o",
        "outputId": "0b5e0e70-3fb9-44f5-8021-73b695603439"
      },
      "execution_count": null,
      "outputs": [
        {
          "output_type": "stream",
          "name": "stdout",
          "text": [
            "Looking in indexes: https://pypi.org/simple, https://us-python.pkg.dev/colab-wheels/public/simple/\n",
            "Collecting ConceptNet\n",
            "  Downloading ConceptNet-5.7.0.tar.gz (5.1 MB)\n",
            "\u001b[2K     \u001b[90m━━━━━━━━━━━━━━━━━━━━━━━━━━━━━━━━━━━━━━━━\u001b[0m \u001b[32m5.1/5.1 MB\u001b[0m \u001b[31m18.8 MB/s\u001b[0m eta \u001b[36m0:00:00\u001b[0m\n",
            "\u001b[?25h  Preparing metadata (setup.py) ... \u001b[?25l\u001b[?25hdone\n",
            "Collecting snakemake\n",
            "  Downloading snakemake-7.23.1-py3-none-any.whl (363 kB)\n",
            "\u001b[2K     \u001b[90m━━━━━━━━━━━━━━━━━━━━━━━━━━━━━━━━━━━━━━\u001b[0m \u001b[32m363.3/363.3 KB\u001b[0m \u001b[31m38.2 MB/s\u001b[0m eta \u001b[36m0:00:00\u001b[0m\n",
            "\u001b[?25hRequirement already satisfied: click in /usr/local/lib/python3.8/dist-packages (from ConceptNet) (7.1.2)\n",
            "Requirement already satisfied: requests in /usr/local/lib/python3.8/dist-packages (from ConceptNet) (2.25.1)\n",
            "Collecting ftfy\n",
            "  Downloading ftfy-6.1.1-py3-none-any.whl (53 kB)\n",
            "\u001b[2K     \u001b[90m━━━━━━━━━━━━━━━━━━━━━━━━━━━━━━━━━━━━━━━━\u001b[0m \u001b[32m53.1/53.1 KB\u001b[0m \u001b[31m8.6 MB/s\u001b[0m eta \u001b[36m0:00:00\u001b[0m\n",
            "\u001b[?25hCollecting msgpack-python\n",
            "  Downloading msgpack-python-0.5.6.tar.gz (138 kB)\n",
            "\u001b[2K     \u001b[90m━━━━━━━━━━━━━━━━━━━━━━━━━━━━━━━━━━━━━━\u001b[0m \u001b[32m139.0/139.0 KB\u001b[0m \u001b[31m18.6 MB/s\u001b[0m eta \u001b[36m0:00:00\u001b[0m\n",
            "\u001b[?25h  Preparing metadata (setup.py) ... \u001b[?25l\u001b[?25hdone\n",
            "Requirement already satisfied: numpy in /usr/local/lib/python3.8/dist-packages (from ConceptNet) (1.22.4)\n",
            "Requirement already satisfied: langcodes>=1.4.1 in /usr/local/lib/python3.8/dist-packages (from ConceptNet) (3.3.0)\n",
            "Collecting wordfreq>=2.0.1\n",
            "  Downloading wordfreq-3.0.3-py3-none-any.whl (56.8 MB)\n",
            "\u001b[2K     \u001b[90m━━━━━━━━━━━━━━━━━━━━━━━━━━━━━━━━━━━━━━━━\u001b[0m \u001b[32m56.8/56.8 MB\u001b[0m \u001b[31m14.0 MB/s\u001b[0m eta \u001b[36m0:00:00\u001b[0m\n",
            "\u001b[?25hCollecting xmltodict<0.12.0,>=0.11.0\n",
            "  Downloading xmltodict-0.11.0-py2.py3-none-any.whl (7.2 kB)\n",
            "Collecting ordered_set\n",
            "  Downloading ordered_set-4.1.0-py3-none-any.whl (7.6 kB)\n",
            "Collecting psycopg2-binary\n",
            "  Downloading psycopg2_binary-2.9.5-cp38-cp38-manylinux_2_17_x86_64.manylinux2014_x86_64.whl (3.0 MB)\n",
            "\u001b[2K     \u001b[90m━━━━━━━━━━━━━━━━━━━━━━━━━━━━━━━━━━━━━━━━\u001b[0m \u001b[32m3.0/3.0 MB\u001b[0m \u001b[31m55.3 MB/s\u001b[0m eta \u001b[36m0:00:00\u001b[0m\n",
            "\u001b[?25hCollecting marisa-trie\n",
            "  Downloading marisa_trie-0.7.8-cp38-cp38-manylinux_2_17_x86_64.manylinux2014_x86_64.whl (1.2 MB)\n",
            "\u001b[2K     \u001b[90m━━━━━━━━━━━━━━━━━━━━━━━━━━━━━━━━━━━━━━━━\u001b[0m \u001b[32m1.2/1.2 MB\u001b[0m \u001b[31m40.5 MB/s\u001b[0m eta \u001b[36m0:00:00\u001b[0m\n",
            "\u001b[?25hRequirement already satisfied: regex>=2021.7.6 in /usr/local/lib/python3.8/dist-packages (from wordfreq>=2.0.1->ConceptNet) (2022.6.2)\n",
            "Requirement already satisfied: msgpack>=1.0 in /usr/local/lib/python3.8/dist-packages (from wordfreq>=2.0.1->ConceptNet) (1.0.4)\n",
            "Requirement already satisfied: wcwidth>=0.2.5 in /usr/local/lib/python3.8/dist-packages (from ftfy->ConceptNet) (0.2.6)\n",
            "Requirement already satisfied: setuptools in /usr/local/lib/python3.8/dist-packages (from marisa-trie->ConceptNet) (57.4.0)\n",
            "Requirement already satisfied: chardet<5,>=3.0.2 in /usr/local/lib/python3.8/dist-packages (from requests->ConceptNet) (4.0.0)\n",
            "Requirement already satisfied: certifi>=2017.4.17 in /usr/local/lib/python3.8/dist-packages (from requests->ConceptNet) (2022.12.7)\n",
            "Requirement already satisfied: idna<3,>=2.5 in /usr/local/lib/python3.8/dist-packages (from requests->ConceptNet) (2.10)\n",
            "Requirement already satisfied: urllib3<1.27,>=1.21.1 in /usr/local/lib/python3.8/dist-packages (from requests->ConceptNet) (1.24.3)\n",
            "Requirement already satisfied: jsonschema in /usr/local/lib/python3.8/dist-packages (from snakemake->ConceptNet) (4.3.3)\n",
            "Collecting pulp>=2.0\n",
            "  Downloading PuLP-2.7.0-py3-none-any.whl (14.3 MB)\n",
            "\u001b[2K     \u001b[90m━━━━━━━━━━━━━━━━━━━━━━━━━━━━━━━━━━━━━━━\u001b[0m \u001b[32m14.3/14.3 MB\u001b[0m \u001b[31m102.2 MB/s\u001b[0m eta \u001b[36m0:00:00\u001b[0m\n",
            "\u001b[?25hCollecting humanfriendly\n",
            "  Downloading humanfriendly-10.0-py2.py3-none-any.whl (86 kB)\n",
            "\u001b[2K     \u001b[90m━━━━━━━━━━━━━━━━━━━━━━━━━━━━━━━━━━━━━━━━\u001b[0m \u001b[32m86.8/86.8 KB\u001b[0m \u001b[31m11.6 MB/s\u001b[0m eta \u001b[36m0:00:00\u001b[0m\n",
            "\u001b[?25hRequirement already satisfied: appdirs in /usr/local/lib/python3.8/dist-packages (from snakemake->ConceptNet) (1.4.4)\n",
            "Collecting gitpython\n",
            "  Downloading GitPython-3.1.31-py3-none-any.whl (184 kB)\n",
            "\u001b[2K     \u001b[90m━━━━━━━━━━━━━━━━━━━━━━━━━━━━━━━━━━━━━━\u001b[0m \u001b[32m184.3/184.3 KB\u001b[0m \u001b[31m23.4 MB/s\u001b[0m eta \u001b[36m0:00:00\u001b[0m\n",
            "\u001b[?25hCollecting datrie\n",
            "  Downloading datrie-0.8.2-cp38-cp38-manylinux1_x86_64.whl (551 kB)\n",
            "\u001b[2K     \u001b[90m━━━━━━━━━━━━━━━━━━━━━━━━━━━━━━━━━━━━━━\u001b[0m \u001b[32m551.6/551.6 KB\u001b[0m \u001b[31m61.9 MB/s\u001b[0m eta \u001b[36m0:00:00\u001b[0m\n",
            "\u001b[?25hRequirement already satisfied: docutils in /usr/local/lib/python3.8/dist-packages (from snakemake->ConceptNet) (0.16)\n",
            "Requirement already satisfied: psutil in /usr/local/lib/python3.8/dist-packages (from snakemake->ConceptNet) (5.4.8)\n",
            "Collecting throttler\n",
            "  Downloading throttler-1.2.2-py3-none-any.whl (7.6 kB)\n",
            "Requirement already satisfied: pyyaml in /usr/local/lib/python3.8/dist-packages (from snakemake->ConceptNet) (6.0)\n",
            "Requirement already satisfied: nbformat in /usr/local/lib/python3.8/dist-packages (from snakemake->ConceptNet) (5.7.3)\n",
            "Collecting stopit\n",
            "  Downloading stopit-1.1.2.tar.gz (18 kB)\n",
            "  Preparing metadata (setup.py) ... \u001b[?25l\u001b[?25hdone\n",
            "Requirement already satisfied: wrapt in /usr/local/lib/python3.8/dist-packages (from snakemake->ConceptNet) (1.14.1)\n",
            "Collecting connection-pool>=0.0.3\n",
            "  Downloading connection_pool-0.0.3.tar.gz (3.8 kB)\n",
            "  Preparing metadata (setup.py) ... \u001b[?25l\u001b[?25hdone\n",
            "Collecting configargparse\n",
            "  Downloading ConfigArgParse-1.5.3-py3-none-any.whl (20 kB)\n",
            "Collecting yte<2.0,>=1.0\n",
            "  Downloading yte-1.5.1-py3-none-any.whl (7.5 kB)\n",
            "Collecting reretry\n",
            "  Downloading reretry-0.11.8-py2.py3-none-any.whl (5.6 kB)\n",
            "Collecting toposort\n",
            "  Downloading toposort-1.10-py3-none-any.whl (8.5 kB)\n",
            "Requirement already satisfied: tabulate in /usr/local/lib/python3.8/dist-packages (from snakemake->ConceptNet) (0.8.10)\n",
            "Requirement already satisfied: smart-open>=3.0 in /usr/local/lib/python3.8/dist-packages (from snakemake->ConceptNet) (6.3.0)\n",
            "Collecting jinja2<4.0,>=3.0\n",
            "  Downloading Jinja2-3.1.2-py3-none-any.whl (133 kB)\n",
            "\u001b[2K     \u001b[90m━━━━━━━━━━━━━━━━━━━━━━━━━━━━━━━━━━━━━━\u001b[0m \u001b[32m133.1/133.1 KB\u001b[0m \u001b[31m18.8 MB/s\u001b[0m eta \u001b[36m0:00:00\u001b[0m\n",
            "\u001b[?25hRequirement already satisfied: MarkupSafe>=2.0 in /usr/local/lib/python3.8/dist-packages (from jinja2<4.0,>=3.0->snakemake->ConceptNet) (2.0.1)\n",
            "Collecting plac<2.0.0,>=1.3.4\n",
            "  Downloading plac-1.3.5-py2.py3-none-any.whl (22 kB)\n",
            "Collecting dpath<3.0,>=2.0\n",
            "  Downloading dpath-2.1.4-py3-none-any.whl (17 kB)\n",
            "Collecting gitdb<5,>=4.0.1\n",
            "  Downloading gitdb-4.0.10-py3-none-any.whl (62 kB)\n",
            "\u001b[2K     \u001b[90m━━━━━━━━━━━━━━━━━━━━━━━━━━━━━━━━━━━━━━━━\u001b[0m \u001b[32m62.7/62.7 KB\u001b[0m \u001b[31m8.3 MB/s\u001b[0m eta \u001b[36m0:00:00\u001b[0m\n",
            "\u001b[?25hRequirement already satisfied: attrs>=17.4.0 in /usr/local/lib/python3.8/dist-packages (from jsonschema->snakemake->ConceptNet) (22.2.0)\n",
            "Requirement already satisfied: pyrsistent!=0.17.0,!=0.17.1,!=0.17.2,>=0.14.0 in /usr/local/lib/python3.8/dist-packages (from jsonschema->snakemake->ConceptNet) (0.19.3)\n",
            "Requirement already satisfied: importlib-resources>=1.4.0 in /usr/local/lib/python3.8/dist-packages (from jsonschema->snakemake->ConceptNet) (5.12.0)\n",
            "Requirement already satisfied: traitlets>=5.1 in /usr/local/lib/python3.8/dist-packages (from nbformat->snakemake->ConceptNet) (5.7.1)\n",
            "Requirement already satisfied: jupyter-core in /usr/local/lib/python3.8/dist-packages (from nbformat->snakemake->ConceptNet) (5.2.0)\n",
            "Requirement already satisfied: fastjsonschema in /usr/local/lib/python3.8/dist-packages (from nbformat->snakemake->ConceptNet) (2.16.2)\n",
            "Collecting smmap<6,>=3.0.1\n",
            "  Downloading smmap-5.0.0-py3-none-any.whl (24 kB)\n",
            "Requirement already satisfied: zipp>=3.1.0 in /usr/local/lib/python3.8/dist-packages (from importlib-resources>=1.4.0->jsonschema->snakemake->ConceptNet) (3.14.0)\n",
            "Requirement already satisfied: platformdirs>=2.5 in /usr/local/lib/python3.8/dist-packages (from jupyter-core->nbformat->snakemake->ConceptNet) (3.0.0)\n",
            "Building wheels for collected packages: ConceptNet, msgpack-python, connection-pool, stopit\n",
            "  Building wheel for ConceptNet (setup.py) ... \u001b[?25l\u001b[?25hdone\n",
            "  Created wheel for ConceptNet: filename=ConceptNet-5.7.0-py3-none-any.whl size=5309066 sha256=7a5aa106cf8917ff2db95f0c89dcc3b0c1948db1cfbc257f5a25684724dd6b0a\n",
            "  Stored in directory: /root/.cache/pip/wheels/46/b0/e7/e9d0c0c9779c719d4f004e8fee5e298602efb6b0ea4958c6b9\n",
            "  Building wheel for msgpack-python (setup.py) ... \u001b[?25l\u001b[?25hdone\n",
            "  Created wheel for msgpack-python: filename=msgpack_python-0.5.6-cp38-cp38-linux_x86_64.whl size=445187 sha256=6609c7385d0341e28279b799466930b20f9e37ec1e13b750594cf75a06fe19c7\n",
            "  Stored in directory: /root/.cache/pip/wheels/03/7f/e7/8ec405fe5220fe1401be3dfa943f6e1f10b525f54f68d75e0a\n",
            "  Building wheel for connection-pool (setup.py) ... \u001b[?25l\u001b[?25hdone\n",
            "  Created wheel for connection-pool: filename=connection_pool-0.0.3-py3-none-any.whl size=4082 sha256=7cfd512b57512c92be8cb005d51d8ccb988ba9775e95e9580425704794d63d49\n",
            "  Stored in directory: /root/.cache/pip/wheels/0a/98/19/7c3152e8ffe9a430f80fd866c4d2b16b3945dc4ebb26961ec0\n",
            "  Building wheel for stopit (setup.py) ... \u001b[?25l\u001b[?25hdone\n",
            "  Created wheel for stopit: filename=stopit-1.1.2-py3-none-any.whl size=11953 sha256=6076c5edc3b3b488071aeaab0114809f81c408b2e34d5ff008243a14f1d1bfa9\n",
            "  Stored in directory: /root/.cache/pip/wheels/a8/bb/8f/6b9328d23c2dcedbfeb8498b9f650d55d463089e3b8fc0bfb2\n",
            "Successfully built ConceptNet msgpack-python connection-pool stopit\n",
            "Installing collected packages: xmltodict, toposort, throttler, stopit, pulp, plac, msgpack-python, connection-pool, smmap, reretry, psycopg2-binary, ordered_set, marisa-trie, jinja2, humanfriendly, ftfy, dpath, datrie, configargparse, yte, wordfreq, gitdb, gitpython, snakemake, ConceptNet\n",
            "  Attempting uninstall: jinja2\n",
            "    Found existing installation: Jinja2 2.11.3\n",
            "    Uninstalling Jinja2-2.11.3:\n",
            "      Successfully uninstalled Jinja2-2.11.3\n",
            "\u001b[31mERROR: pip's dependency resolver does not currently take into account all the packages that are installed. This behaviour is the source of the following dependency conflicts.\n",
            "flask 1.1.4 requires Jinja2<3.0,>=2.10.1, but you have jinja2 3.1.2 which is incompatible.\u001b[0m\u001b[31m\n",
            "\u001b[0mSuccessfully installed ConceptNet-5.7.0 configargparse-1.5.3 connection-pool-0.0.3 datrie-0.8.2 dpath-2.1.4 ftfy-6.1.1 gitdb-4.0.10 gitpython-3.1.31 humanfriendly-10.0 jinja2-3.1.2 marisa-trie-0.7.8 msgpack-python-0.5.6 ordered_set-4.1.0 plac-1.3.5 psycopg2-binary-2.9.5 pulp-2.7.0 reretry-0.11.8 smmap-5.0.0 snakemake-7.23.1 stopit-1.1.2 throttler-1.2.2 toposort-1.10 wordfreq-3.0.3 xmltodict-0.11.0 yte-1.5.1\n"
          ]
        }
      ]
    },
    {
      "cell_type": "code",
      "source": [
        "import pandas as pd\n",
        "import torch\n",
        "from sentence_transformers import SentenceTransformer\n",
        "from sklearn.metrics.pairwise import cosine_similarity\n",
        "\n",
        "# Read the merged DataFrame containing the tweets and categories\n",
        "merged_df = pd.concat([df1, df2], axis=0)\n",
        "\n",
        "# Load the pre-trained S-BERT model\n",
        "model = SentenceTransformer('bert-base-nli-mean-tokens')\n",
        "\n",
        "# Convert the tweets into sentence embeddings\n",
        "tweet_embeddings = model.encode(merged_df['text'].values)\n",
        "\n",
        "# Define the possible label names\n",
        "label_names = ['Vaccine','USA','Transportation','News','Mask','China','Advice']\n",
        "\n",
        "# Convert the label names into label embeddings\n",
        "label_embeddings = model.encode(label_names)\n",
        "\n",
        "# Calculate the cosine similarities between each tweet embedding and each label embedding\n",
        "cos_similarities = cosine_similarity(tweet_embeddings, label_embeddings)\n",
        "\n",
        "# Assign the label with the highest cosine similarity to each tweet\n",
        "predicted_labels = [label_names[i] for i in cos_similarities.argmax(axis=1)]\n",
        "\n",
        "# Add the predicted labels to the merged DataFrame\n",
        "merged_df['predicted_label'] = predicted_labels\n",
        "\n",
        "# Print the resulting DataFrame\n",
        "print(predicted_labels)"
      ],
      "metadata": {
        "colab": {
          "base_uri": "https://localhost:8080/"
        },
        "id": "cRL--Ld2pRsF",
        "outputId": "60bbdaa4-4da9-4cca-caf9-cafb8e99a7d8"
      },
      "execution_count": null,
      "outputs": [
        {
          "output_type": "stream",
          "name": "stdout",
          "text": [
            "['China', 'USA', 'Advice', 'Vaccine', 'News', 'News', 'Vaccine', 'Advice', 'Vaccine', 'USA', 'Mask', 'USA', 'Vaccine', 'USA', 'Vaccine', 'Vaccine', 'Advice', 'Vaccine', 'Vaccine', 'Vaccine', 'Vaccine', 'Vaccine', 'Vaccine', 'Vaccine', 'Vaccine', 'Advice', 'USA', 'China', 'Vaccine', 'Vaccine', 'Vaccine', 'Vaccine', 'Advice', 'Vaccine', 'News', 'Vaccine', 'Advice', 'Vaccine', 'News', 'China', 'Mask', 'China', 'USA', 'USA', 'Vaccine', 'Vaccine', 'Vaccine', 'USA', 'Vaccine', 'Vaccine', 'Vaccine', 'China', 'Vaccine', 'Vaccine', 'China', 'USA', 'Vaccine', 'Vaccine', 'News', 'Vaccine', 'Vaccine', 'Vaccine', 'China', 'Vaccine', 'Vaccine', 'China', 'USA', 'Advice', 'Vaccine', 'Mask', 'Vaccine', 'News', 'News', 'China', 'Advice', 'China', 'News', 'Vaccine', 'News', 'Vaccine', 'Advice', 'China', 'USA', 'News', 'News', 'Vaccine', 'Vaccine', 'Advice', 'China', 'Vaccine', 'Vaccine', 'China', 'Vaccine', 'USA', 'USA', 'Vaccine', 'Vaccine', 'USA', 'Vaccine', 'Vaccine', 'Vaccine', 'Vaccine', 'Vaccine', 'Advice', 'Vaccine', 'China', 'Vaccine', 'Vaccine', 'China', 'Vaccine', 'Vaccine', 'Vaccine', 'Vaccine', 'China', 'USA', 'Mask', 'Vaccine', 'Vaccine', 'News', 'China', 'Vaccine', 'China', 'Vaccine', 'News', 'Vaccine', 'Advice', 'Advice', 'Vaccine', 'Vaccine', 'Vaccine', 'Vaccine', 'News', 'Vaccine', 'China', 'China', 'Advice', 'Vaccine', 'Vaccine', 'USA', 'Mask', 'China', 'Vaccine', 'China', 'News', 'Vaccine', 'Mask', 'USA', 'USA', 'China', 'Vaccine', 'Advice', 'Advice', 'China', 'Vaccine', 'Vaccine', 'Vaccine', 'USA', 'Vaccine', 'News', 'Vaccine', 'China', 'China', 'USA', 'Vaccine', 'Vaccine', 'Vaccine', 'News', 'Advice', 'News', 'Vaccine', 'Advice', 'China', 'Vaccine', 'Vaccine', 'Vaccine', 'News', 'News', 'Transportation', 'China', 'Advice', 'China', 'Vaccine', 'News', 'Vaccine', 'Advice', 'News', 'China', 'Vaccine', 'China', 'Vaccine', 'News', 'Advice', 'Vaccine', 'News', 'USA', 'Advice', 'News', 'Mask', 'USA', 'China', 'Advice', 'Vaccine', 'Vaccine', 'Advice', 'USA', 'Vaccine', 'China', 'Advice', 'Vaccine', 'Vaccine', 'Mask', 'Vaccine', 'Vaccine', 'USA', 'Advice', 'Vaccine', 'USA', 'News', 'Vaccine', 'Vaccine', 'Vaccine', 'Advice', 'News', 'News', 'Vaccine', 'China', 'China', 'News', 'Vaccine', 'Vaccine', 'China', 'China', 'News', 'Vaccine', 'News', 'Advice', 'Vaccine', 'Advice', 'Vaccine', 'Vaccine', 'Vaccine', 'Vaccine', 'USA', 'Vaccine', 'Vaccine', 'Advice', 'Vaccine', 'News', 'Vaccine', 'Vaccine', 'China', 'Advice', 'Vaccine', 'Vaccine', 'China', 'Vaccine', 'Vaccine', 'Vaccine', 'Vaccine', 'Vaccine', 'USA', 'Vaccine', 'USA', 'USA', 'China', 'Advice', 'Advice', 'Advice', 'Vaccine', 'Advice', 'China', 'Advice', 'News', 'Vaccine', 'USA', 'USA', 'Vaccine', 'USA', 'Vaccine', 'News', 'China', 'Vaccine', 'USA', 'News', 'News', 'Vaccine', 'Advice', 'Vaccine', 'News', 'Vaccine', 'Vaccine', 'News', 'Advice', 'Vaccine', 'Vaccine', 'News', 'Advice', 'Advice', 'News', 'News', 'China', 'Vaccine', 'USA', 'News', 'Advice', 'China', 'Vaccine', 'Vaccine', 'Vaccine', 'Vaccine', 'USA', 'Advice', 'USA', 'Vaccine', 'China', 'Vaccine', 'USA', 'Vaccine', 'China', 'Vaccine', 'China', 'Mask', 'Vaccine', 'Vaccine', 'Vaccine', 'Vaccine', 'Vaccine', 'Vaccine', 'Advice', 'News', 'Vaccine', 'Advice', 'News', 'News', 'Vaccine', 'China', 'Vaccine', 'News', 'Vaccine', 'Vaccine', 'Vaccine', 'Vaccine', 'Vaccine', 'News', 'Advice', 'Vaccine', 'China', 'Vaccine', 'Advice', 'China', 'USA', 'News', 'Vaccine', 'Vaccine', 'China', 'Vaccine', 'Vaccine', 'Vaccine', 'USA', 'Vaccine', 'Vaccine', 'Advice', 'Vaccine', 'China', 'News', 'Vaccine', 'Mask', 'Vaccine', 'China', 'Advice', 'News', 'Vaccine', 'USA', 'China', 'News', 'China', 'News', 'Advice', 'News', 'Vaccine', 'Advice', 'Vaccine', 'Vaccine', 'Vaccine', 'Vaccine', 'Advice', 'Vaccine', 'Advice', 'Vaccine', 'Vaccine', 'Advice', 'News', 'Vaccine', 'Vaccine', 'Vaccine', 'Vaccine', 'China', 'Vaccine', 'Vaccine', 'USA', 'Vaccine', 'Vaccine', 'Advice', 'Vaccine', 'News', 'USA', 'Advice', 'China', 'Advice', 'Vaccine', 'China', 'Vaccine', 'Vaccine', 'Vaccine', 'News', 'China', 'Vaccine', 'Vaccine', 'News', 'Advice', 'USA', 'Vaccine', 'China', 'USA', 'Vaccine', 'USA', 'Vaccine', 'Vaccine', 'USA', 'Vaccine', 'Vaccine', 'News', 'Vaccine', 'Advice', 'News', 'USA', 'China', 'Vaccine', 'China', 'Vaccine', 'China', 'News', 'Vaccine', 'Vaccine', 'News', 'China', 'China', 'China', 'Vaccine', 'Advice', 'Vaccine', 'Advice', 'Vaccine', 'Vaccine', 'Vaccine', 'News', 'China', 'Vaccine', 'Vaccine', 'Vaccine', 'Vaccine', 'Vaccine', 'Advice', 'Vaccine', 'Vaccine', 'News', 'Advice', 'Vaccine', 'News', 'Vaccine', 'Vaccine', 'Vaccine', 'Advice', 'USA', 'Vaccine', 'USA', 'Vaccine', 'USA', 'Advice', 'Vaccine', 'News', 'USA', 'Vaccine', 'Vaccine', 'News', 'China', 'Vaccine', 'Advice', 'Vaccine', 'News', 'Vaccine', 'Vaccine', 'China', 'Vaccine', 'Advice', 'Advice', 'USA', 'Vaccine', 'Vaccine', 'Vaccine', 'News', 'Vaccine', 'Vaccine', 'Vaccine', 'News', 'Vaccine', 'Vaccine', 'Advice', 'Vaccine', 'Advice', 'Vaccine', 'Vaccine', 'USA', 'Advice', 'Vaccine', 'Advice', 'USA', 'Vaccine', 'USA', 'USA', 'Advice', 'Vaccine', 'Vaccine', 'News', 'Advice', 'China', 'News', 'News', 'Advice', 'Vaccine', 'Vaccine', 'Vaccine', 'Vaccine', 'Advice', 'China', 'China', 'Vaccine', 'Vaccine', 'USA', 'News', 'Vaccine', 'Advice', 'Vaccine', 'Vaccine', 'Advice', 'Vaccine', 'Vaccine', 'News', 'Vaccine', 'USA', 'Vaccine', 'Vaccine', 'Vaccine', 'Advice', 'News', 'USA', 'Advice', 'News', 'Vaccine', 'Vaccine', 'China', 'Vaccine', 'Vaccine', 'USA', 'Vaccine', 'Vaccine', 'News', 'News', 'Advice', 'China', 'USA', 'News', 'USA', 'Vaccine', 'Mask', 'Vaccine', 'USA', 'Advice', 'USA', 'Vaccine', 'China', 'Vaccine', 'Vaccine', 'Vaccine', 'Vaccine', 'Vaccine', 'Advice', 'China', 'Vaccine', 'News', 'Vaccine', 'Vaccine', 'Vaccine', 'Vaccine', 'Vaccine', 'News', 'Advice', 'Vaccine', 'News', 'Vaccine', 'News', 'Vaccine', 'China', 'Vaccine', 'News', 'Vaccine', 'USA', 'News', 'USA', 'Vaccine', 'China', 'Vaccine', 'Vaccine', 'China', 'USA', 'Advice', 'Vaccine', 'News', 'Vaccine', 'Vaccine', 'News', 'Vaccine', 'Advice', 'Vaccine', 'China', 'Vaccine', 'Vaccine', 'Vaccine', 'Vaccine', 'Vaccine', 'USA', 'Vaccine', 'Vaccine', 'News', 'China', 'USA', 'Vaccine', 'Advice', 'USA', 'Vaccine', 'Vaccine', 'Vaccine', 'China', 'USA', 'Vaccine', 'Vaccine', 'USA', 'Vaccine', 'Vaccine', 'Vaccine', 'Vaccine', 'Vaccine', 'News', 'Vaccine', 'Vaccine', 'Vaccine', 'USA', 'USA', 'News', 'News', 'Vaccine', 'Advice', 'Vaccine', 'Advice', 'Advice', 'Vaccine', 'Vaccine', 'News', 'Vaccine', 'Vaccine', 'China', 'Vaccine', 'China', 'Vaccine', 'Vaccine', 'China', 'Vaccine', 'Vaccine', 'Vaccine', 'Vaccine', 'Vaccine', 'USA', 'Vaccine', 'News', 'Vaccine', 'Vaccine', 'News', 'USA', 'News', 'Vaccine', 'Advice', 'Vaccine', 'Vaccine', 'USA', 'Vaccine', 'USA', 'Advice', 'China', 'Vaccine', 'Vaccine', 'Advice', 'USA', 'Vaccine', 'News', 'Vaccine', 'Vaccine', 'Vaccine', 'China', 'Vaccine', 'News', 'Vaccine', 'Vaccine', 'News', 'Vaccine', 'Vaccine', 'Advice', 'Vaccine', 'News', 'Vaccine', 'Vaccine', 'Vaccine', 'Vaccine', 'Vaccine', 'Vaccine', 'Vaccine', 'News', 'China', 'Vaccine', 'Vaccine', 'Vaccine', 'News', 'Vaccine', 'Vaccine', 'Mask', 'Vaccine', 'Vaccine', 'USA', 'Vaccine', 'Vaccine', 'News', 'Vaccine', 'China', 'Vaccine', 'Vaccine', 'Vaccine', 'News', 'News', 'News', 'China', 'China', 'Vaccine', 'China', 'Vaccine', 'Vaccine', 'Vaccine', 'Vaccine', 'Advice', 'News', 'Advice', 'Vaccine', 'Vaccine', 'Vaccine', 'Advice', 'News', 'Vaccine', 'News', 'Vaccine', 'USA', 'Advice', 'Advice', 'Vaccine', 'Advice', 'Vaccine', 'Vaccine', 'Vaccine', 'USA', 'News', 'USA', 'Vaccine', 'News', 'Vaccine', 'Advice', 'Vaccine', 'Vaccine', 'News', 'News', 'News', 'Vaccine', 'News', 'Vaccine', 'News', 'News', 'News', 'China', 'USA', 'News', 'Vaccine', 'China', 'Vaccine', 'Vaccine', 'Mask', 'Vaccine', 'China', 'Advice', 'Vaccine', 'News', 'USA', 'Mask', 'Vaccine', 'News', 'Vaccine', 'News', 'Mask', 'Vaccine', 'China', 'Vaccine', 'Advice', 'Vaccine', 'Vaccine', 'Advice', 'Vaccine', 'Vaccine', 'News', 'News', 'USA', 'Advice', 'Advice', 'Vaccine', 'Advice', 'Advice', 'Vaccine', 'News', 'Advice', 'China', 'Advice', 'China', 'Vaccine', 'News', 'China', 'Vaccine', 'News', 'Vaccine', 'News', 'Vaccine', 'News', 'News', 'USA', 'Advice', 'China', 'USA', 'Vaccine', 'Vaccine', 'Mask', 'Advice', 'Vaccine', 'Vaccine', 'Vaccine', 'Vaccine', 'Vaccine', 'Vaccine', 'Vaccine', 'Vaccine', 'Vaccine', 'Advice', 'Vaccine', 'China', 'Vaccine', 'Vaccine', 'Vaccine', 'News', 'China', 'Vaccine', 'Vaccine', 'China', 'Vaccine', 'China', 'Vaccine', 'Vaccine', 'Vaccine', 'Vaccine', 'News', 'Advice', 'Vaccine', 'Vaccine', 'News', 'Advice', 'Vaccine', 'Vaccine', 'Vaccine', 'USA', 'Vaccine', 'Advice', 'USA', 'Advice', 'China', 'Vaccine', 'Advice', 'Advice', 'News', 'China', 'Vaccine', 'Vaccine', 'Vaccine', 'Vaccine', 'Vaccine', 'Vaccine', 'China', 'News', 'Vaccine', 'Vaccine', 'Vaccine', 'Vaccine', 'USA', 'Vaccine', 'Advice', 'Vaccine', 'News', 'Vaccine', 'Vaccine', 'USA', 'Vaccine', 'Vaccine', 'USA', 'China', 'Vaccine', 'News', 'News', 'Advice', 'News', 'Advice', 'China', 'Advice', 'Vaccine', 'USA', 'News', 'Advice', 'Vaccine', 'Vaccine', 'Advice', 'Vaccine', 'Vaccine', 'Vaccine', 'Vaccine', 'Advice', 'News', 'Advice', 'Vaccine', 'China', 'China', 'Vaccine', 'China', 'Vaccine', 'Vaccine', 'Vaccine', 'Vaccine', 'Vaccine', 'Vaccine', 'China', 'Vaccine', 'Vaccine', 'Vaccine', 'China', 'Vaccine', 'Vaccine', 'Vaccine', 'China', 'News', 'China', 'Vaccine', 'News', 'Advice', 'China', 'News', 'Vaccine', 'Advice', 'USA', 'Vaccine', 'Vaccine', 'Vaccine', 'USA', 'Vaccine', 'Vaccine', 'News', 'China', 'Advice', 'Vaccine', 'News', 'China', 'Vaccine', 'Vaccine', 'Vaccine', 'USA', 'China', 'Vaccine', 'Advice', 'Mask', 'Advice', 'News', 'Vaccine', 'USA', 'Vaccine', 'Vaccine', 'News', 'Vaccine', 'Vaccine', 'Advice', 'Advice', 'USA', 'China', 'USA', 'Vaccine', 'Vaccine', 'Vaccine', 'Vaccine', 'Vaccine', 'Vaccine', 'Vaccine', 'News', 'Advice', 'China', 'Advice', 'Vaccine', 'Vaccine', 'Vaccine', 'Vaccine', 'China', 'Mask', 'Vaccine', 'Vaccine', 'News', 'News', 'News', 'USA', 'News', 'Vaccine', 'News', 'Vaccine', 'Vaccine', 'China', 'Vaccine', 'Advice', 'Vaccine', 'Vaccine', 'China', 'Vaccine', 'USA', 'News', 'Vaccine', 'China', 'News', 'China', 'Vaccine', 'Vaccine', 'Vaccine', 'Advice', 'China', 'China', 'Vaccine', 'Vaccine', 'Vaccine', 'Vaccine', 'USA', 'News', 'China', 'News', 'Vaccine', 'Advice', 'News', 'Vaccine', 'China', 'Vaccine', 'USA', 'Vaccine', 'Advice', 'News', 'Vaccine', 'Advice', 'News', 'Vaccine', 'Vaccine', 'China', 'Vaccine', 'USA', 'USA', 'Vaccine', 'Advice', 'Vaccine', 'Vaccine', 'USA', 'Vaccine', 'Vaccine', 'Vaccine', 'Advice', 'USA', 'Vaccine', 'News', 'Vaccine', 'News', 'Vaccine', 'Vaccine', 'China', 'Advice', 'Vaccine', 'Advice', 'News', 'Vaccine', 'USA', 'Vaccine', 'Advice', 'Advice', 'Vaccine', 'News', 'News', 'China', 'Vaccine', 'China', 'USA', 'News', 'Vaccine', 'Vaccine', 'Vaccine', 'USA', 'Vaccine', 'Vaccine', 'News', 'Vaccine', 'Advice', 'Vaccine', 'USA', 'China', 'USA', 'News', 'Vaccine', 'News', 'Advice', 'USA', 'Vaccine', 'Advice', 'USA', 'Vaccine', 'News', 'Vaccine', 'Vaccine', 'Vaccine', 'Vaccine', 'Vaccine', 'Vaccine', 'Vaccine', 'Vaccine', 'China', 'News', 'Vaccine', 'News', 'News', 'News', 'Vaccine', 'Vaccine', 'Vaccine', 'Vaccine', 'Advice', 'News', 'Vaccine', 'China', 'Vaccine', 'Advice', 'Vaccine', 'USA', 'News', 'Vaccine', 'Vaccine', 'China', 'Vaccine', 'USA', 'News', 'Vaccine', 'Vaccine', 'Vaccine', 'Vaccine', 'Vaccine', 'Advice', 'Vaccine', 'China', 'Vaccine', 'Vaccine', 'Vaccine', 'Advice', 'Vaccine', 'China', 'China', 'Vaccine', 'China', 'Vaccine', 'News', 'Vaccine', 'Vaccine', 'News', 'China', 'Vaccine', 'News', 'Vaccine', 'Vaccine', 'Advice', 'Vaccine', 'China', 'Vaccine', 'Advice', 'Vaccine', 'USA', 'Vaccine', 'Vaccine', 'Advice', 'China', 'Vaccine', 'News', 'Advice', 'Vaccine', 'Vaccine', 'Advice', 'Advice', 'News', 'News', 'Vaccine', 'Vaccine', 'Advice', 'Vaccine', 'Vaccine', 'Vaccine', 'News', 'USA', 'China', 'Advice', 'Vaccine', 'Vaccine', 'Vaccine', 'USA', 'Vaccine', 'News', 'News', 'Vaccine', 'China', 'Vaccine', 'News', 'Vaccine', 'Vaccine', 'Advice', 'Advice', 'News', 'Vaccine', 'Vaccine', 'Vaccine', 'Vaccine', 'Advice', 'USA', 'Vaccine', 'Vaccine', 'Vaccine', 'Vaccine', 'Vaccine', 'News', 'Vaccine', 'News', 'Vaccine', 'News', 'News', 'China', 'Advice', 'USA', 'USA', 'News', 'Vaccine', 'News', 'USA', 'China', 'Vaccine', 'Vaccine', 'News', 'News', 'USA', 'Vaccine', 'Vaccine', 'USA', 'Vaccine', 'News', 'Mask', 'Vaccine', 'USA', 'Vaccine', 'Advice', 'China', 'Advice', 'China', 'China', 'News', 'Vaccine', 'Vaccine', 'China', 'China', 'Vaccine', 'News', 'Vaccine', 'Vaccine', 'USA', 'Advice', 'China', 'Vaccine', 'News', 'Vaccine', 'News', 'USA', 'Vaccine', 'Vaccine', 'USA', 'Vaccine', 'Vaccine', 'Vaccine', 'Advice', 'USA', 'Advice', 'China', 'Vaccine', 'USA', 'USA', 'Vaccine', 'China', 'Vaccine', 'China', 'Advice', 'News', 'News', 'China', 'Vaccine', 'News', 'News', 'Vaccine', 'Vaccine', 'Vaccine', 'Vaccine', 'Vaccine', 'Vaccine', 'USA', 'Vaccine', 'Vaccine', 'USA', 'Advice', 'Advice', 'Vaccine', 'Advice', 'USA', 'Vaccine', 'Mask', 'Vaccine', 'Vaccine', 'Vaccine', 'Vaccine', 'Vaccine', 'Vaccine', 'China', 'Advice', 'Vaccine', 'Vaccine', 'Vaccine', 'Vaccine', 'Advice', 'Advice', 'USA', 'Advice', 'Advice', 'China', 'Vaccine', 'Vaccine', 'China', 'Advice', 'Vaccine', 'China', 'USA', 'USA', 'Vaccine', 'Vaccine', 'Advice', 'Mask', 'Vaccine', 'China', 'USA', 'Vaccine', 'Vaccine', 'USA', 'Vaccine', 'China', 'News', 'Vaccine', 'Vaccine', 'Advice', 'News', 'Vaccine', 'Vaccine', 'Vaccine', 'News', 'China', 'Advice', 'USA', 'Vaccine', 'Vaccine', 'Mask', 'Vaccine', 'Vaccine', 'China', 'News', 'Vaccine', 'Vaccine', 'Vaccine', 'USA', 'Mask', 'China', 'News', 'China', 'Vaccine', 'Vaccine', 'Vaccine', 'Vaccine', 'Vaccine', 'Vaccine', 'Vaccine', 'USA', 'Vaccine', 'News', 'USA', 'China', 'Vaccine', 'Advice', 'News', 'Vaccine', 'USA', 'China', 'Mask', 'Vaccine', 'USA', 'Vaccine', 'Vaccine', 'Vaccine', 'Vaccine', 'Vaccine', 'Vaccine', 'China', 'USA', 'Vaccine', 'Vaccine', 'China', 'Vaccine', 'Vaccine', 'Vaccine', 'Vaccine', 'Advice', 'Vaccine', 'Vaccine', 'Vaccine', 'Vaccine', 'China', 'News', 'Advice', 'China', 'Advice', 'Vaccine', 'News', 'News', 'Vaccine', 'USA', 'Vaccine', 'Vaccine', 'USA', 'Vaccine', 'China', 'Vaccine', 'Advice', 'China', 'Vaccine', 'Advice', 'Mask', 'Advice', 'Advice', 'Vaccine', 'Vaccine', 'USA', 'USA', 'Vaccine', 'USA', 'News', 'USA', 'USA', 'News', 'Vaccine', 'Vaccine', 'Vaccine', 'USA', 'Vaccine', 'Vaccine', 'Vaccine', 'China', 'Vaccine', 'Vaccine', 'News', 'Advice', 'China', 'Vaccine', 'USA', 'News', 'Vaccine', 'Vaccine', 'USA', 'China', 'USA', 'USA', 'News', 'Advice', 'Advice', 'Vaccine', 'News', 'Advice', 'Vaccine', 'Advice', 'Vaccine', 'USA', 'Advice', 'Vaccine', 'Vaccine', 'Vaccine', 'Vaccine', 'Vaccine', 'Vaccine', 'Vaccine', 'Advice', 'Vaccine', 'Vaccine', 'Advice', 'Vaccine', 'Advice', 'Vaccine', 'News', 'USA', 'Vaccine', 'Vaccine', 'Vaccine', 'Vaccine', 'Advice', 'Vaccine', 'Vaccine', 'China', 'Vaccine', 'News', 'Vaccine', 'China', 'China', 'China', 'Advice', 'Advice', 'USA', 'Vaccine', 'Vaccine', 'Vaccine', 'Vaccine', 'Vaccine', 'Vaccine', 'Vaccine', 'Advice', 'Vaccine', 'USA', 'Vaccine', 'Vaccine', 'USA', 'News', 'USA', 'News', 'Advice', 'News', 'Vaccine', 'China', 'News', 'Vaccine', 'Vaccine', 'Vaccine', 'China', 'Mask', 'China', 'Vaccine', 'Vaccine', 'Vaccine', 'Vaccine', 'Vaccine', 'Vaccine', 'Vaccine', 'Vaccine', 'Vaccine', 'Vaccine', 'Advice', 'Vaccine', 'News', 'Vaccine', 'Vaccine', 'Vaccine', 'Vaccine', 'Vaccine', 'Advice', 'Advice', 'USA', 'Advice', 'News', 'Vaccine', 'China', 'Vaccine', 'News', 'USA', 'Vaccine', 'China', 'Vaccine', 'Vaccine', 'Vaccine', 'Vaccine', 'Advice', 'China', 'News', 'Advice', 'Advice', 'Advice', 'Vaccine', 'Vaccine', 'Advice', 'Vaccine', 'China', 'USA', 'Advice', 'Vaccine', 'Vaccine', 'Vaccine', 'China', 'China', 'Vaccine', 'Vaccine', 'Advice', 'Vaccine', 'Advice', 'Advice', 'Vaccine', 'Vaccine', 'Vaccine', 'Vaccine', 'News', 'Vaccine', 'Vaccine', 'Vaccine', 'Vaccine', 'USA', 'Vaccine', 'Vaccine', 'Vaccine', 'Vaccine', 'Vaccine', 'Mask', 'Vaccine', 'Advice', 'Vaccine', 'USA', 'Vaccine', 'Vaccine', 'Vaccine', 'Advice', 'Advice', 'Vaccine', 'Vaccine', 'News', 'Vaccine', 'USA', 'Vaccine', 'China', 'Vaccine', 'Advice', 'Vaccine', 'Vaccine', 'Mask', 'Vaccine', 'Vaccine', 'News', 'USA', 'Vaccine', 'Vaccine', 'Vaccine', 'News', 'News', 'Vaccine', 'News', 'Vaccine', 'News', 'Mask', 'Vaccine', 'China', 'News', 'Vaccine', 'News', 'Vaccine', 'Vaccine', 'Vaccine', 'Vaccine', 'Advice', 'Vaccine', 'China', 'USA', 'Advice', 'Vaccine', 'Vaccine', 'News', 'Advice', 'News', 'Advice', 'China', 'Vaccine', 'News', 'USA', 'Vaccine', 'News', 'Vaccine', 'News', 'News', 'USA', 'Vaccine', 'News', 'Vaccine', 'Vaccine', 'News', 'Vaccine', 'Vaccine', 'Vaccine', 'USA', 'Mask', 'Vaccine', 'Vaccine', 'Vaccine', 'USA', 'Vaccine', 'Advice', 'Vaccine', 'USA', 'USA', 'Vaccine', 'Vaccine', 'News', 'USA', 'Vaccine', 'Vaccine', 'USA', 'Vaccine', 'Advice', 'Vaccine', 'News', 'China', 'Advice', 'Advice', 'News', 'Advice', 'Vaccine', 'USA', 'USA', 'Advice', 'Vaccine', 'Vaccine', 'Vaccine', 'Vaccine', 'USA', 'News', 'News', 'Vaccine', 'Advice', 'China', 'USA', 'Advice', 'Vaccine', 'News', 'News', 'Vaccine', 'Advice', 'Vaccine', 'USA', 'Mask', 'USA', 'Vaccine', 'USA', 'Vaccine', 'Vaccine', 'Advice', 'Vaccine', 'Vaccine', 'Vaccine', 'Vaccine', 'Vaccine', 'Vaccine', 'Vaccine', 'Vaccine', 'Advice', 'USA', 'China', 'Vaccine', 'Vaccine', 'Vaccine', 'Vaccine', 'Advice', 'Vaccine', 'News', 'Vaccine', 'Advice', 'Vaccine', 'News', 'China', 'Mask', 'China', 'USA', 'USA', 'Vaccine', 'Vaccine', 'Vaccine', 'USA', 'Vaccine', 'Vaccine', 'Vaccine', 'China', 'Vaccine', 'Vaccine', 'China', 'USA', 'Vaccine', 'Vaccine', 'News', 'Vaccine', 'Vaccine', 'Vaccine', 'China', 'Vaccine', 'Vaccine', 'China', 'USA', 'Advice', 'Vaccine', 'Mask', 'Vaccine', 'News', 'News', 'China', 'Advice', 'China', 'News', 'Vaccine', 'News', 'Vaccine', 'Advice', 'China', 'USA', 'News', 'News', 'Vaccine', 'Vaccine', 'Advice', 'China', 'Vaccine', 'Vaccine', 'China', 'Vaccine', 'USA', 'USA', 'Vaccine', 'Vaccine', 'USA', 'Vaccine', 'Vaccine', 'Vaccine', 'Vaccine', 'Vaccine', 'Advice', 'Vaccine', 'China', 'Vaccine', 'Vaccine', 'China', 'Vaccine', 'Vaccine', 'Vaccine', 'Vaccine', 'China', 'USA', 'Mask', 'Vaccine', 'Vaccine', 'News', 'China', 'Vaccine', 'China', 'Vaccine', 'News', 'Vaccine', 'Advice', 'Advice', 'Vaccine', 'Vaccine', 'Vaccine', 'Vaccine', 'News', 'Vaccine', 'China', 'China', 'Advice', 'Vaccine', 'Vaccine', 'USA', 'Mask', 'China', 'Vaccine', 'China', 'News', 'Vaccine', 'Mask', 'USA', 'USA', 'China', 'Vaccine', 'Advice', 'Advice', 'China', 'Vaccine', 'Vaccine', 'Vaccine', 'USA', 'Vaccine', 'News', 'Vaccine', 'China', 'China', 'USA', 'Vaccine', 'Vaccine', 'Vaccine', 'News', 'Advice', 'News', 'Vaccine', 'Advice', 'China', 'Vaccine', 'Vaccine', 'Vaccine', 'News', 'News', 'Transportation', 'China', 'Advice', 'China', 'Vaccine', 'News', 'Vaccine', 'Advice', 'News', 'China', 'Vaccine', 'China', 'Vaccine', 'News', 'Advice', 'Vaccine', 'News', 'USA', 'Advice', 'News', 'Mask', 'USA', 'China', 'Advice', 'Vaccine', 'Vaccine', 'Advice', 'USA', 'Vaccine', 'China', 'Advice', 'Vaccine', 'Vaccine', 'Mask', 'Vaccine', 'Vaccine', 'USA', 'Advice', 'Vaccine', 'USA', 'News', 'Vaccine', 'Vaccine', 'Vaccine', 'Advice', 'News', 'News', 'Vaccine', 'China', 'China', 'News', 'Vaccine', 'Vaccine', 'China', 'China', 'News', 'Vaccine', 'News', 'Advice', 'Vaccine', 'Advice', 'Vaccine', 'Vaccine', 'Vaccine', 'Vaccine', 'USA', 'Vaccine', 'Vaccine', 'Advice', 'Vaccine', 'News', 'Vaccine', 'Vaccine', 'China', 'Advice', 'Vaccine', 'Vaccine', 'China', 'Vaccine', 'Vaccine', 'Vaccine', 'Vaccine', 'Vaccine', 'USA', 'Vaccine', 'USA', 'USA', 'China', 'Advice', 'Advice', 'Advice', 'Vaccine', 'Advice', 'China', 'Advice', 'News', 'Vaccine', 'USA', 'USA', 'Vaccine', 'USA', 'Vaccine', 'News', 'China', 'Vaccine', 'USA', 'News', 'News', 'Vaccine', 'Advice', 'Vaccine', 'News', 'Vaccine', 'Vaccine', 'News', 'Advice', 'Vaccine', 'Vaccine', 'News', 'Advice', 'Advice', 'News', 'News', 'China', 'Vaccine', 'USA', 'News', 'Advice', 'China', 'Vaccine', 'Vaccine', 'Vaccine', 'Vaccine', 'USA', 'Advice', 'USA', 'Vaccine', 'China', 'Vaccine', 'USA', 'Vaccine', 'China', 'Vaccine', 'China', 'Mask', 'Vaccine', 'Vaccine', 'Vaccine', 'Vaccine', 'Vaccine', 'Vaccine', 'Advice', 'News', 'Vaccine', 'Advice', 'News', 'News', 'Vaccine', 'China', 'Vaccine', 'News', 'Vaccine', 'Vaccine', 'Vaccine', 'Vaccine', 'Vaccine', 'News', 'Advice', 'Vaccine', 'China', 'Vaccine', 'Advice', 'China', 'USA', 'News', 'Vaccine', 'Vaccine', 'China', 'Vaccine', 'Vaccine', 'Vaccine', 'USA', 'Vaccine', 'Vaccine', 'Advice', 'Vaccine', 'China', 'News', 'Vaccine', 'Mask', 'Vaccine', 'China', 'Advice', 'News', 'Vaccine', 'USA', 'China', 'News', 'China', 'News', 'Advice', 'News', 'Vaccine', 'Advice', 'Vaccine', 'Vaccine', 'Vaccine', 'Vaccine', 'Advice', 'Vaccine', 'Advice', 'Vaccine', 'Vaccine', 'Advice', 'News', 'Vaccine', 'Vaccine', 'Vaccine', 'Vaccine', 'China', 'Vaccine', 'Vaccine', 'USA', 'Vaccine', 'Vaccine', 'Advice', 'Vaccine', 'News', 'USA', 'Advice', 'China', 'Advice', 'Vaccine', 'China', 'Vaccine', 'Vaccine', 'Vaccine', 'News', 'China', 'Vaccine', 'Vaccine', 'News', 'Advice', 'USA', 'Vaccine', 'China', 'USA', 'Vaccine', 'USA', 'Vaccine', 'Vaccine', 'USA', 'Vaccine', 'Vaccine', 'News', 'Vaccine', 'Advice', 'News', 'USA', 'China', 'Vaccine', 'China', 'Vaccine', 'China', 'News', 'Vaccine', 'Vaccine', 'News', 'China', 'China', 'China', 'Vaccine', 'Advice', 'Vaccine', 'Advice', 'Vaccine', 'Vaccine', 'Vaccine', 'News', 'China', 'Vaccine', 'Vaccine', 'Vaccine', 'Vaccine', 'Vaccine', 'Advice', 'Vaccine', 'Vaccine', 'News', 'Advice', 'Vaccine', 'News', 'Vaccine', 'Vaccine', 'Vaccine', 'Advice', 'USA', 'Vaccine', 'USA', 'Vaccine', 'USA', 'Advice', 'Vaccine', 'News', 'USA', 'Vaccine', 'Vaccine', 'News', 'China', 'Vaccine', 'Advice', 'Vaccine', 'News', 'Vaccine', 'Vaccine', 'China', 'Vaccine', 'Advice', 'Advice', 'USA', 'Vaccine', 'Vaccine', 'Vaccine', 'News', 'Vaccine', 'Vaccine', 'Vaccine', 'News', 'Vaccine', 'Vaccine', 'Advice', 'Vaccine', 'Advice', 'Vaccine', 'Vaccine', 'USA', 'Advice', 'Vaccine', 'Advice', 'USA', 'Vaccine', 'USA', 'USA', 'Advice', 'Vaccine', 'Vaccine', 'News', 'Advice', 'China', 'News', 'News', 'Advice', 'Vaccine', 'Vaccine', 'Vaccine', 'Vaccine', 'Advice', 'China', 'China', 'Vaccine', 'Vaccine', 'USA', 'News', 'Vaccine', 'Advice', 'Vaccine', 'Vaccine', 'Advice', 'Vaccine', 'Vaccine', 'News', 'Vaccine', 'USA', 'Vaccine', 'Vaccine', 'Vaccine', 'Advice', 'News', 'USA', 'Advice', 'News', 'Vaccine', 'Vaccine', 'China', 'Vaccine', 'Vaccine', 'USA', 'Vaccine', 'Vaccine', 'News', 'News', 'Advice', 'China', 'USA', 'News', 'USA', 'Vaccine', 'Mask', 'Vaccine', 'USA', 'Advice', 'USA', 'Vaccine', 'China', 'Vaccine', 'Vaccine', 'Vaccine', 'Vaccine', 'Vaccine', 'Advice', 'China', 'Vaccine', 'News', 'Vaccine', 'Vaccine', 'Vaccine', 'Vaccine', 'Vaccine', 'News', 'Advice', 'Vaccine', 'News', 'Vaccine', 'News', 'Vaccine', 'China', 'Vaccine', 'News', 'Vaccine', 'USA', 'News', 'USA', 'Vaccine', 'China', 'Vaccine', 'Vaccine', 'China', 'USA', 'Advice', 'Vaccine', 'News', 'Vaccine', 'Vaccine', 'News', 'Vaccine', 'Advice', 'Vaccine', 'China', 'Vaccine', 'Vaccine', 'Vaccine', 'Vaccine', 'Vaccine', 'USA', 'Vaccine', 'Vaccine', 'News', 'China', 'USA', 'Vaccine', 'Advice', 'USA', 'Vaccine', 'Vaccine', 'Vaccine', 'China', 'USA', 'Vaccine', 'Vaccine', 'USA', 'Vaccine', 'Vaccine', 'Vaccine', 'Vaccine', 'Vaccine', 'News', 'Vaccine', 'Vaccine', 'Vaccine', 'USA', 'USA', 'News', 'News', 'Vaccine', 'Advice', 'Vaccine', 'Advice', 'Advice', 'Vaccine', 'Vaccine', 'News', 'Vaccine', 'Vaccine', 'China', 'Vaccine', 'China', 'Vaccine', 'Vaccine', 'China', 'Vaccine', 'Vaccine', 'Vaccine', 'Vaccine', 'Vaccine', 'USA', 'Vaccine', 'News', 'Vaccine', 'Vaccine', 'News', 'USA', 'News', 'Vaccine', 'Advice', 'Vaccine', 'Vaccine', 'USA', 'Vaccine', 'USA', 'Advice', 'China', 'Vaccine', 'Vaccine', 'Advice', 'USA', 'Vaccine', 'News', 'Vaccine', 'Vaccine', 'Vaccine', 'China', 'Vaccine', 'News', 'Vaccine', 'Vaccine', 'News', 'Vaccine', 'Vaccine', 'Advice', 'Vaccine', 'News', 'Vaccine', 'Vaccine', 'Vaccine', 'Vaccine', 'Vaccine', 'Vaccine', 'Vaccine', 'News', 'China', 'Vaccine', 'Vaccine', 'Vaccine', 'News', 'Vaccine', 'Vaccine', 'Mask', 'Vaccine', 'Vaccine', 'USA', 'Vaccine', 'Vaccine', 'News', 'Vaccine', 'China', 'Vaccine', 'Vaccine', 'Vaccine', 'News', 'News', 'News', 'China', 'China', 'Vaccine', 'China', 'Vaccine', 'Vaccine', 'Vaccine', 'Vaccine', 'Advice', 'News', 'Advice', 'Vaccine', 'Vaccine', 'Vaccine', 'Advice', 'News', 'Vaccine', 'News', 'Vaccine', 'USA', 'Advice', 'Advice', 'Vaccine', 'Advice', 'Vaccine', 'Vaccine', 'Vaccine', 'USA', 'News', 'USA', 'Vaccine', 'News', 'Vaccine', 'Advice', 'Vaccine', 'Vaccine', 'News', 'News', 'News', 'Vaccine', 'News', 'Vaccine', 'News', 'News', 'News', 'China', 'USA', 'News', 'Vaccine', 'China', 'Vaccine', 'Vaccine', 'Mask', 'Vaccine', 'China', 'Advice', 'Vaccine', 'News', 'USA', 'Mask', 'Vaccine', 'News', 'Vaccine', 'News', 'Mask', 'Vaccine', 'China', 'Vaccine', 'Advice', 'Vaccine', 'Vaccine', 'Advice', 'Vaccine', 'Vaccine', 'News', 'News', 'USA', 'Advice', 'Advice', 'Vaccine', 'Advice', 'Advice', 'Vaccine', 'News', 'Advice', 'China', 'Advice', 'China', 'Vaccine', 'News', 'China', 'Vaccine', 'News', 'Vaccine', 'News', 'Vaccine', 'News', 'News', 'USA', 'Advice', 'China', 'USA', 'Vaccine', 'Vaccine', 'Mask', 'Advice', 'Vaccine', 'Vaccine', 'Vaccine', 'Vaccine', 'Vaccine', 'Vaccine', 'Vaccine', 'Vaccine', 'Vaccine', 'Advice', 'Vaccine', 'China', 'Vaccine', 'Vaccine', 'Vaccine', 'News', 'China', 'Vaccine', 'Vaccine', 'China', 'Vaccine', 'China', 'Vaccine', 'Vaccine', 'Vaccine', 'Vaccine', 'News', 'Advice', 'Vaccine', 'Vaccine', 'News', 'Advice', 'Vaccine', 'Vaccine', 'Vaccine', 'USA', 'Vaccine', 'Advice', 'USA', 'Advice', 'China', 'Vaccine', 'Advice', 'Advice', 'News', 'China', 'Vaccine', 'Vaccine', 'Vaccine', 'Vaccine', 'Vaccine', 'Vaccine', 'China', 'News', 'Vaccine', 'Vaccine', 'Vaccine', 'Vaccine', 'USA', 'Vaccine', 'Advice', 'Vaccine', 'News', 'Vaccine', 'Vaccine', 'USA', 'Vaccine', 'Vaccine', 'USA', 'China', 'Vaccine', 'News', 'News', 'Advice', 'News', 'Advice', 'China', 'Advice', 'Vaccine', 'USA', 'News', 'Advice', 'Vaccine', 'Vaccine', 'Advice', 'Vaccine', 'Vaccine', 'Vaccine', 'Vaccine', 'Advice', 'News', 'Advice', 'Vaccine', 'China', 'China', 'Vaccine', 'China', 'Vaccine', 'Vaccine', 'Vaccine', 'Vaccine', 'Vaccine', 'Vaccine', 'China', 'Vaccine', 'Vaccine', 'Vaccine', 'China', 'Vaccine', 'Vaccine', 'Vaccine', 'China', 'News', 'China', 'Vaccine', 'News', 'Advice', 'China', 'News', 'Vaccine', 'Advice', 'USA', 'Vaccine', 'Vaccine', 'Vaccine', 'USA', 'Vaccine', 'Vaccine', 'News', 'China', 'Advice', 'Vaccine', 'News', 'China', 'Vaccine', 'Vaccine', 'Vaccine', 'USA', 'China', 'Vaccine', 'Advice', 'Mask', 'Advice', 'News', 'Vaccine', 'USA', 'Vaccine', 'Vaccine', 'News', 'Vaccine', 'Vaccine', 'Advice', 'Advice', 'USA', 'China', 'USA', 'Vaccine', 'Vaccine', 'Vaccine', 'Vaccine', 'Vaccine', 'Vaccine', 'Vaccine', 'News', 'Advice', 'China', 'Advice', 'Vaccine', 'Vaccine', 'Vaccine', 'Vaccine', 'China', 'Mask', 'Vaccine', 'Vaccine', 'News', 'News', 'News', 'USA', 'News', 'Vaccine', 'News', 'Vaccine', 'Vaccine', 'China', 'Vaccine', 'Advice', 'Vaccine', 'Vaccine', 'China', 'Vaccine', 'USA', 'News', 'Vaccine', 'China', 'News', 'China', 'Vaccine', 'Vaccine', 'Vaccine', 'Advice', 'China', 'China', 'Vaccine', 'Vaccine', 'Vaccine', 'Vaccine', 'USA', 'News', 'China', 'News', 'Vaccine', 'Advice', 'News', 'Vaccine', 'China', 'Vaccine', 'USA', 'Vaccine', 'Advice', 'News', 'Vaccine', 'Advice', 'News', 'Vaccine', 'Vaccine', 'China', 'Vaccine', 'USA', 'USA', 'Vaccine', 'Advice', 'Vaccine', 'Vaccine', 'USA', 'Vaccine', 'Vaccine', 'Vaccine', 'Advice', 'USA', 'Vaccine', 'News', 'Vaccine', 'News', 'Vaccine', 'Vaccine', 'China', 'Advice', 'Vaccine', 'Advice', 'News', 'Vaccine', 'USA', 'Vaccine', 'Advice', 'Advice', 'Vaccine', 'News', 'News', 'China', 'Vaccine', 'China', 'USA', 'News', 'Vaccine', 'Vaccine', 'Vaccine', 'USA', 'Vaccine', 'Vaccine', 'News', 'Vaccine', 'Advice', 'Vaccine', 'USA', 'China', 'USA', 'News', 'Vaccine', 'News', 'Advice', 'USA', 'Vaccine', 'Advice', 'USA', 'Vaccine', 'News', 'Vaccine', 'Vaccine', 'Vaccine', 'Vaccine', 'Vaccine', 'Vaccine', 'Vaccine', 'Vaccine', 'China', 'News', 'Vaccine', 'News', 'News', 'News', 'Vaccine', 'Vaccine', 'Vaccine', 'Vaccine', 'Advice', 'News', 'Vaccine', 'China', 'Vaccine', 'Advice', 'Vaccine', 'USA', 'News', 'Vaccine', 'Vaccine', 'China', 'Vaccine', 'USA', 'News', 'Vaccine', 'Vaccine', 'Vaccine', 'Vaccine', 'Vaccine', 'Advice', 'Vaccine', 'China', 'Vaccine', 'Vaccine', 'Vaccine', 'Advice', 'Vaccine', 'China', 'China', 'Vaccine', 'China', 'Vaccine', 'News', 'Vaccine', 'Vaccine', 'News', 'China', 'Vaccine', 'News', 'Vaccine', 'Vaccine', 'Advice', 'Vaccine', 'China', 'Vaccine', 'Advice', 'Vaccine', 'USA', 'Vaccine', 'Vaccine', 'Advice', 'China', 'Vaccine', 'News', 'Advice', 'Vaccine', 'Vaccine', 'Advice', 'Advice', 'News', 'News', 'Vaccine', 'Vaccine', 'Advice', 'Vaccine', 'Vaccine', 'Vaccine', 'News', 'USA', 'China', 'Advice', 'Vaccine', 'Vaccine', 'Vaccine', 'USA', 'Vaccine', 'News', 'News', 'Vaccine', 'China', 'Vaccine', 'News', 'Vaccine', 'Vaccine', 'Advice', 'Advice', 'News', 'Vaccine', 'Vaccine', 'Vaccine', 'Vaccine', 'Advice', 'USA', 'Vaccine', 'Vaccine', 'Vaccine', 'Vaccine', 'Vaccine', 'News', 'Vaccine', 'News', 'Vaccine', 'News', 'News', 'China', 'Advice', 'USA', 'USA', 'News', 'Vaccine', 'News', 'USA', 'China', 'Vaccine', 'Vaccine', 'News', 'News', 'USA', 'Vaccine', 'Vaccine', 'USA', 'Vaccine', 'News', 'Mask', 'Vaccine', 'USA', 'Vaccine', 'Advice', 'China', 'Advice', 'China', 'China', 'News', 'Vaccine', 'Vaccine', 'China', 'China', 'Vaccine', 'News', 'Vaccine', 'Vaccine', 'USA', 'Advice', 'China', 'Vaccine', 'News', 'Vaccine', 'News', 'USA', 'Vaccine', 'Vaccine', 'USA', 'Vaccine', 'Vaccine', 'Vaccine', 'Advice', 'USA', 'Advice', 'China', 'Vaccine', 'USA', 'USA', 'Vaccine', 'China', 'Vaccine', 'China', 'Advice', 'News', 'News', 'China', 'Vaccine', 'News', 'News', 'Vaccine', 'Vaccine', 'Vaccine', 'Vaccine', 'Vaccine', 'Vaccine', 'USA', 'Vaccine', 'Vaccine', 'USA', 'Advice', 'Advice', 'Vaccine', 'Advice', 'USA', 'Vaccine', 'Mask', 'Vaccine', 'Vaccine', 'Vaccine', 'Vaccine', 'Vaccine', 'Vaccine', 'China', 'Advice', 'Vaccine', 'Vaccine', 'Vaccine', 'Vaccine', 'Advice', 'Advice', 'USA', 'Advice', 'Advice', 'China', 'Vaccine', 'Vaccine', 'China', 'Advice', 'Vaccine', 'China', 'USA', 'USA', 'Vaccine', 'Vaccine', 'Advice', 'Mask', 'Vaccine', 'China', 'USA', 'Vaccine', 'Vaccine', 'USA', 'Vaccine', 'China', 'News', 'Vaccine', 'Vaccine', 'Advice', 'News', 'Vaccine', 'Vaccine', 'Vaccine', 'News', 'China', 'Advice', 'USA', 'Vaccine', 'Vaccine', 'Mask', 'Vaccine', 'Vaccine', 'China', 'News', 'Vaccine', 'Vaccine', 'Vaccine', 'USA', 'Mask', 'China', 'News', 'China', 'Vaccine', 'Vaccine', 'Vaccine', 'Vaccine', 'Vaccine', 'Vaccine', 'Vaccine', 'USA', 'Vaccine', 'News', 'USA', 'China', 'Vaccine', 'Advice', 'News', 'Vaccine', 'USA', 'China', 'Mask', 'Vaccine', 'USA', 'Vaccine', 'Vaccine', 'Vaccine', 'Vaccine', 'Vaccine', 'Vaccine', 'China', 'USA', 'Vaccine', 'Vaccine', 'China', 'Vaccine', 'Vaccine', 'Vaccine', 'Vaccine', 'Advice', 'Vaccine', 'Vaccine', 'Vaccine', 'Vaccine', 'China', 'News', 'Advice', 'China', 'Advice', 'Vaccine', 'News', 'News', 'Vaccine', 'USA', 'Vaccine', 'Vaccine', 'USA', 'Vaccine', 'China', 'Vaccine', 'Advice', 'China', 'Vaccine', 'Advice', 'Mask', 'Advice', 'Advice', 'Vaccine', 'Vaccine', 'USA', 'USA', 'Vaccine', 'USA', 'News', 'USA', 'USA', 'News', 'Vaccine', 'Vaccine', 'Vaccine', 'USA', 'Vaccine', 'Vaccine', 'Vaccine', 'China', 'Vaccine', 'Vaccine', 'News', 'Advice', 'China', 'Vaccine', 'USA', 'News', 'Vaccine', 'Vaccine', 'USA', 'China', 'USA', 'USA', 'News', 'Advice', 'Advice', 'Vaccine', 'News', 'Advice', 'Vaccine', 'Advice', 'Vaccine', 'USA', 'Advice', 'Vaccine', 'Vaccine', 'Vaccine', 'Vaccine', 'Vaccine', 'Vaccine', 'Vaccine', 'Advice', 'Vaccine', 'Vaccine', 'Advice', 'Vaccine', 'Advice', 'Vaccine', 'News', 'USA', 'Vaccine', 'Vaccine', 'Vaccine', 'Vaccine', 'Advice', 'Vaccine', 'Vaccine', 'China', 'Vaccine', 'News', 'Vaccine', 'China', 'China', 'China', 'Advice', 'Advice', 'USA', 'Vaccine', 'Vaccine', 'Vaccine', 'Vaccine', 'Vaccine', 'Vaccine', 'Vaccine', 'Advice', 'Vaccine', 'USA', 'Vaccine', 'Vaccine', 'USA', 'News', 'USA', 'News', 'Advice', 'News', 'Vaccine', 'China', 'News', 'Vaccine', 'Vaccine', 'Vaccine', 'China', 'Mask', 'China', 'Vaccine', 'Vaccine', 'Vaccine', 'Vaccine', 'Vaccine', 'Vaccine', 'Vaccine', 'Vaccine', 'Vaccine', 'Vaccine', 'Advice', 'Vaccine', 'News', 'Vaccine', 'Vaccine', 'Vaccine', 'Vaccine', 'Vaccine', 'Advice', 'Advice', 'USA', 'Advice', 'News', 'Vaccine', 'China', 'Vaccine', 'News', 'USA', 'Vaccine', 'China', 'Vaccine', 'Vaccine', 'Vaccine', 'Vaccine', 'Advice', 'China', 'News', 'Advice', 'Advice', 'Advice', 'Vaccine', 'Vaccine', 'Advice', 'Vaccine', 'China', 'USA', 'Advice', 'Vaccine', 'Vaccine', 'Vaccine', 'China', 'China', 'Vaccine', 'Vaccine', 'Advice', 'Vaccine', 'Advice', 'Advice', 'Vaccine', 'Vaccine', 'Vaccine', 'Vaccine', 'News', 'Vaccine', 'Vaccine', 'Vaccine', 'Vaccine', 'USA', 'Vaccine', 'Vaccine', 'Vaccine', 'Vaccine', 'Vaccine', 'Mask', 'Vaccine', 'Advice', 'Vaccine', 'USA', 'Vaccine', 'Vaccine', 'Vaccine', 'Advice', 'Advice', 'Vaccine', 'Vaccine', 'News', 'Vaccine', 'USA', 'Vaccine', 'China', 'Vaccine', 'Advice', 'Vaccine', 'Vaccine', 'Mask', 'Vaccine', 'Vaccine', 'News', 'USA', 'Vaccine', 'Vaccine', 'Vaccine', 'News', 'News', 'Vaccine', 'News', 'Vaccine', 'News', 'Mask', 'Vaccine', 'China', 'News', 'Vaccine', 'News', 'Vaccine', 'Vaccine', 'Vaccine', 'Vaccine', 'Advice', 'Vaccine', 'China', 'USA', 'Advice', 'Vaccine', 'Vaccine', 'News', 'Advice', 'News', 'Advice', 'China', 'Vaccine', 'News', 'USA', 'Vaccine', 'News', 'Vaccine', 'News', 'News', 'USA', 'Vaccine', 'News', 'Vaccine', 'Vaccine', 'News', 'Vaccine', 'Vaccine', 'Vaccine', 'USA', 'Mask', 'Vaccine', 'Vaccine', 'Vaccine', 'USA', 'Vaccine', 'Advice', 'Vaccine', 'USA', 'USA', 'Vaccine', 'Vaccine', 'News', 'USA', 'Vaccine', 'Vaccine', 'USA', 'Vaccine', 'Advice', 'Vaccine', 'News', 'China', 'Advice', 'Advice', 'News', 'Advice', 'Vaccine', 'USA', 'USA', 'Advice', 'Vaccine', 'Vaccine', 'Vaccine', 'Vaccine', 'USA', 'News', 'News', 'Vaccine', 'Advice', 'Vaccine', 'Vaccine', 'China', 'Vaccine', 'Vaccine', 'China', 'Vaccine', 'Advice', 'Vaccine', 'Vaccine', 'Vaccine', 'Vaccine', 'Vaccine', 'Vaccine', 'Vaccine', 'Vaccine', 'Vaccine', 'Vaccine', 'News', 'Vaccine', 'Vaccine', 'Vaccine', 'News', 'Vaccine', 'Vaccine', 'Vaccine', 'Vaccine', 'News', 'Vaccine', 'China', 'USA', 'Vaccine', 'News', 'China', 'USA', 'Vaccine', 'News', 'Vaccine', 'Vaccine', 'Vaccine', 'News', 'Vaccine', 'Vaccine', 'Vaccine', 'Advice', 'News', 'Vaccine', 'China', 'Advice', 'USA', 'Vaccine', 'News', 'Vaccine', 'Advice', 'Vaccine', 'USA', 'China', 'China', 'USA', 'Vaccine', 'China', 'Vaccine', 'News', 'USA', 'China', 'Vaccine', 'News', 'China', 'News', 'USA', 'Vaccine', 'USA', 'Vaccine', 'China', 'Advice', 'Vaccine', 'News', 'China', 'Vaccine', 'Vaccine', 'China', 'China', 'Vaccine', 'China', 'Vaccine', 'Vaccine', 'China', 'News', 'USA', 'Vaccine', 'Advice', 'Vaccine', 'China', 'Vaccine', 'Vaccine', 'USA', 'Vaccine', 'Vaccine', 'Vaccine', 'Vaccine', 'Vaccine', 'Vaccine', 'Vaccine', 'News', 'USA', 'Vaccine', 'USA', 'Vaccine', 'Vaccine', 'Vaccine', 'Vaccine', 'Vaccine', 'News', 'Vaccine', 'Vaccine', 'Vaccine', 'USA', 'USA', 'News', 'Vaccine', 'Vaccine', 'News', 'Vaccine', 'Vaccine', 'China', 'China', 'China', 'China', 'Vaccine', 'USA', 'Vaccine', 'Vaccine', 'Vaccine', 'Advice', 'Vaccine', 'USA', 'Vaccine', 'Vaccine', 'China', 'News', 'Vaccine', 'Vaccine', 'Vaccine', 'Vaccine', 'Vaccine', 'Vaccine', 'Advice', 'China', 'Vaccine', 'China', 'Vaccine', 'Vaccine', 'China', 'China', 'USA', 'USA', 'Mask', 'China', 'Vaccine', 'Mask', 'Vaccine', 'Vaccine', 'Vaccine', 'News', 'Vaccine', 'Vaccine', 'Vaccine', 'Vaccine', 'China', 'Vaccine', 'Advice', 'News', 'China', 'Advice', 'News', 'Vaccine', 'Vaccine', 'Vaccine', 'Vaccine', 'USA', 'USA', 'China', 'Vaccine', 'China', 'News', 'Vaccine', 'News', 'USA', 'Vaccine', 'News', 'USA', 'Vaccine', 'Vaccine', 'Advice', 'News', 'USA', 'Vaccine', 'USA', 'Vaccine', 'Advice', 'Vaccine', 'News', 'News', 'News', 'Vaccine', 'Vaccine', 'USA', 'China', 'Vaccine', 'Vaccine', 'Advice', 'Vaccine', 'Vaccine', 'Vaccine', 'Vaccine', 'Vaccine', 'USA', 'Vaccine', 'Vaccine', 'Vaccine', 'Advice', 'Advice', 'Advice', 'News', 'Vaccine', 'Vaccine', 'Vaccine', 'Vaccine', 'Vaccine', 'Advice', 'Vaccine', 'Vaccine', 'News', 'Vaccine', 'Vaccine', 'News', 'Vaccine', 'Vaccine', 'Vaccine', 'Vaccine']\n"
          ]
        }
      ]
    },
    {
      "cell_type": "code",
      "source": [
        "import torch\n",
        "from transformers import AutoTokenizer, AutoModel\n",
        "\n",
        "# Load the pre-trained S-BERT model\n",
        "tokenizer = AutoTokenizer.from_pretrained(\"sentence-transformers/sentence-transformers-all-distilroberta-v1\")\n",
        "model = AutoModel.from_pretrained(\"sentence-transformers/sentence-transformers-all-distilroberta-v1\")\n",
        "\n",
        "# Load the ConceptNet knowledge graph\n",
        "\\\n",
        "\n",
        "# (You will need to download and preprocess the ConceptNet graph)\n",
        "graph = load_conceptnet_graph()\n",
        "\n",
        "# Retrofit the ConceptNet graph to include sentence and label embeddings\n",
        "graph = retrofit_graph(graph, model)\n",
        "\n",
        "# Define the set of possible labels\n",
        "labels = [\"Vaccine\",\"USA\",\"Transportation\",\"News\",\"Mask\",\"China\",\"Advice\"]\n",
        "\n",
        "# Convert the labels to embeddings\n",
        "label_embeddings = []\n",
        "for label in labels:\n",
        "    label_embedding = model.encode(label)\n",
        "    label_embeddings.append(label_embedding)\n",
        "\n",
        "# Loop through each tweet in X\n",
        "for tweet in X:\n",
        "    # Convert the tweet to an embedding\n",
        "    tweet_embedding = model.encode(tweet)\n",
        "    \n",
        "    # Project the tweet and label embeddings to the knowledge graph embedding space\n",
        "    projected_tweet_embedding = torch.matmul(tweet_embedding, P)\n",
        "    projected_label_embeddings = []\n",
        "    for label_embedding in label_embeddings:\n",
        "        projected_label_embedding = torch.matmul(label_embedding, P)\n",
        "        projected_label_embeddings.append(projected_label_embedding)\n",
        "        \n",
        "    # Calculate the cosine similarity between the tweet embedding and each label embedding\n",
        "    similarities = []\n",
        "    for projected_label_embedding in projected_label_embeddings:\n",
        "        similarity = torch.cosine_similarity(projected_tweet_embedding, projected_label_embedding, dim=0)\n",
        "        similarities.append(similarity)\n",
        "        \n",
        "    # Find the label with the highest similarity to the tweet\n",
        "    max_similarity = max(similarities)\n",
        "    max_similarity_index = similarities.index(max_similarity)\n",
        "    predicted_label = labels[max_similarity_index]\n",
        "    \n",
        "    # Output the predicted label for the tweet\n",
        "    print(\"Tweet: \", tweet)\n",
        "    print(\"Predicted label: \", predicted_label)"
      ],
      "metadata": {
        "colab": {
          "base_uri": "https://localhost:8080/",
          "height": 640
        },
        "id": "Jz7Y8DEjwNPg",
        "outputId": "60a6bdf9-0d08-4255-a0ea-2e2455f2d1ee"
      },
      "execution_count": null,
      "outputs": [
        {
          "output_type": "error",
          "ename": "OSError",
          "evalue": "ignored",
          "traceback": [
            "\u001b[0;31m---------------------------------------------------------------------------\u001b[0m",
            "\u001b[0;31mHTTPError\u001b[0m                                 Traceback (most recent call last)",
            "\u001b[0;32m/usr/local/lib/python3.8/dist-packages/huggingface_hub/utils/_errors.py\u001b[0m in \u001b[0;36mhf_raise_for_status\u001b[0;34m(response, endpoint_name)\u001b[0m\n\u001b[1;32m    263\u001b[0m     \u001b[0;32mtry\u001b[0m\u001b[0;34m:\u001b[0m\u001b[0;34m\u001b[0m\u001b[0;34m\u001b[0m\u001b[0m\n\u001b[0;32m--> 264\u001b[0;31m         \u001b[0mresponse\u001b[0m\u001b[0;34m.\u001b[0m\u001b[0mraise_for_status\u001b[0m\u001b[0;34m(\u001b[0m\u001b[0;34m)\u001b[0m\u001b[0;34m\u001b[0m\u001b[0;34m\u001b[0m\u001b[0m\n\u001b[0m\u001b[1;32m    265\u001b[0m     \u001b[0;32mexcept\u001b[0m \u001b[0mHTTPError\u001b[0m \u001b[0;32mas\u001b[0m \u001b[0me\u001b[0m\u001b[0;34m:\u001b[0m\u001b[0;34m\u001b[0m\u001b[0;34m\u001b[0m\u001b[0m\n",
            "\u001b[0;32m/usr/local/lib/python3.8/dist-packages/requests/models.py\u001b[0m in \u001b[0;36mraise_for_status\u001b[0;34m(self)\u001b[0m\n\u001b[1;32m    942\u001b[0m         \u001b[0;32mif\u001b[0m \u001b[0mhttp_error_msg\u001b[0m\u001b[0;34m:\u001b[0m\u001b[0;34m\u001b[0m\u001b[0;34m\u001b[0m\u001b[0m\n\u001b[0;32m--> 943\u001b[0;31m             \u001b[0;32mraise\u001b[0m \u001b[0mHTTPError\u001b[0m\u001b[0;34m(\u001b[0m\u001b[0mhttp_error_msg\u001b[0m\u001b[0;34m,\u001b[0m \u001b[0mresponse\u001b[0m\u001b[0;34m=\u001b[0m\u001b[0mself\u001b[0m\u001b[0;34m)\u001b[0m\u001b[0;34m\u001b[0m\u001b[0;34m\u001b[0m\u001b[0m\n\u001b[0m\u001b[1;32m    944\u001b[0m \u001b[0;34m\u001b[0m\u001b[0m\n",
            "\u001b[0;31mHTTPError\u001b[0m: 401 Client Error: Unauthorized for url: https://huggingface.co/sentence-transformers/sentence-transformers-all-distilroberta-v1/resolve/main/tokenizer_config.json",
            "\nThe above exception was the direct cause of the following exception:\n",
            "\u001b[0;31mRepositoryNotFoundError\u001b[0m                   Traceback (most recent call last)",
            "\u001b[0;32m/usr/local/lib/python3.8/dist-packages/transformers/utils/hub.py\u001b[0m in \u001b[0;36mcached_file\u001b[0;34m(path_or_repo_id, filename, cache_dir, force_download, resume_download, proxies, use_auth_token, revision, local_files_only, subfolder, user_agent, _raise_exceptions_for_missing_entries, _raise_exceptions_for_connection_errors, _commit_hash)\u001b[0m\n\u001b[1;32m    408\u001b[0m         \u001b[0;31m# Load from URL or cache if already cached\u001b[0m\u001b[0;34m\u001b[0m\u001b[0;34m\u001b[0m\u001b[0;34m\u001b[0m\u001b[0m\n\u001b[0;32m--> 409\u001b[0;31m         resolved_file = hf_hub_download(\n\u001b[0m\u001b[1;32m    410\u001b[0m             \u001b[0mpath_or_repo_id\u001b[0m\u001b[0;34m,\u001b[0m\u001b[0;34m\u001b[0m\u001b[0;34m\u001b[0m\u001b[0m\n",
            "\u001b[0;32m/usr/local/lib/python3.8/dist-packages/huggingface_hub/utils/_validators.py\u001b[0m in \u001b[0;36m_inner_fn\u001b[0;34m(*args, **kwargs)\u001b[0m\n\u001b[1;32m    123\u001b[0m \u001b[0;34m\u001b[0m\u001b[0m\n\u001b[0;32m--> 124\u001b[0;31m         \u001b[0;32mreturn\u001b[0m \u001b[0mfn\u001b[0m\u001b[0;34m(\u001b[0m\u001b[0;34m*\u001b[0m\u001b[0margs\u001b[0m\u001b[0;34m,\u001b[0m \u001b[0;34m**\u001b[0m\u001b[0mkwargs\u001b[0m\u001b[0;34m)\u001b[0m\u001b[0;34m\u001b[0m\u001b[0;34m\u001b[0m\u001b[0m\n\u001b[0m\u001b[1;32m    125\u001b[0m \u001b[0;34m\u001b[0m\u001b[0m\n",
            "\u001b[0;32m/usr/local/lib/python3.8/dist-packages/huggingface_hub/file_download.py\u001b[0m in \u001b[0;36mhf_hub_download\u001b[0;34m(repo_id, filename, subfolder, repo_type, revision, library_name, library_version, cache_dir, user_agent, force_download, force_filename, proxies, etag_timeout, resume_download, token, local_files_only, legacy_cache_layout)\u001b[0m\n\u001b[1;32m   1105\u001b[0m             \u001b[0;32mtry\u001b[0m\u001b[0;34m:\u001b[0m\u001b[0;34m\u001b[0m\u001b[0;34m\u001b[0m\u001b[0m\n\u001b[0;32m-> 1106\u001b[0;31m                 metadata = get_hf_file_metadata(\n\u001b[0m\u001b[1;32m   1107\u001b[0m                     \u001b[0murl\u001b[0m\u001b[0;34m=\u001b[0m\u001b[0murl\u001b[0m\u001b[0;34m,\u001b[0m\u001b[0;34m\u001b[0m\u001b[0;34m\u001b[0m\u001b[0m\n",
            "\u001b[0;32m/usr/local/lib/python3.8/dist-packages/huggingface_hub/utils/_validators.py\u001b[0m in \u001b[0;36m_inner_fn\u001b[0;34m(*args, **kwargs)\u001b[0m\n\u001b[1;32m    123\u001b[0m \u001b[0;34m\u001b[0m\u001b[0m\n\u001b[0;32m--> 124\u001b[0;31m         \u001b[0;32mreturn\u001b[0m \u001b[0mfn\u001b[0m\u001b[0;34m(\u001b[0m\u001b[0;34m*\u001b[0m\u001b[0margs\u001b[0m\u001b[0;34m,\u001b[0m \u001b[0;34m**\u001b[0m\u001b[0mkwargs\u001b[0m\u001b[0;34m)\u001b[0m\u001b[0;34m\u001b[0m\u001b[0;34m\u001b[0m\u001b[0m\n\u001b[0m\u001b[1;32m    125\u001b[0m \u001b[0;34m\u001b[0m\u001b[0m\n",
            "\u001b[0;32m/usr/local/lib/python3.8/dist-packages/huggingface_hub/file_download.py\u001b[0m in \u001b[0;36mget_hf_file_metadata\u001b[0;34m(url, token, proxies, timeout)\u001b[0m\n\u001b[1;32m   1440\u001b[0m     )\n\u001b[0;32m-> 1441\u001b[0;31m     \u001b[0mhf_raise_for_status\u001b[0m\u001b[0;34m(\u001b[0m\u001b[0mr\u001b[0m\u001b[0;34m)\u001b[0m\u001b[0;34m\u001b[0m\u001b[0;34m\u001b[0m\u001b[0m\n\u001b[0m\u001b[1;32m   1442\u001b[0m \u001b[0;34m\u001b[0m\u001b[0m\n",
            "\u001b[0;32m/usr/local/lib/python3.8/dist-packages/huggingface_hub/utils/_errors.py\u001b[0m in \u001b[0;36mhf_raise_for_status\u001b[0;34m(response, endpoint_name)\u001b[0m\n\u001b[1;32m    305\u001b[0m             )\n\u001b[0;32m--> 306\u001b[0;31m             \u001b[0;32mraise\u001b[0m \u001b[0mRepositoryNotFoundError\u001b[0m\u001b[0;34m(\u001b[0m\u001b[0mmessage\u001b[0m\u001b[0;34m,\u001b[0m \u001b[0mresponse\u001b[0m\u001b[0;34m)\u001b[0m \u001b[0;32mfrom\u001b[0m \u001b[0me\u001b[0m\u001b[0;34m\u001b[0m\u001b[0;34m\u001b[0m\u001b[0m\n\u001b[0m\u001b[1;32m    307\u001b[0m \u001b[0;34m\u001b[0m\u001b[0m\n",
            "\u001b[0;31mRepositoryNotFoundError\u001b[0m: 401 Client Error. (Request ID: Root=1-63fb5b5c-1ef66b3f1d9760d60af212eb)\n\nRepository Not Found for url: https://huggingface.co/sentence-transformers/sentence-transformers-all-distilroberta-v1/resolve/main/tokenizer_config.json.\nPlease make sure you specified the correct `repo_id` and `repo_type`.\nIf you are trying to access a private or gated repo, make sure you are authenticated.\nInvalid username or password.",
            "\nDuring handling of the above exception, another exception occurred:\n",
            "\u001b[0;31mOSError\u001b[0m                                   Traceback (most recent call last)",
            "\u001b[0;32m<ipython-input-10-8554a5870f64>\u001b[0m in \u001b[0;36m<module>\u001b[0;34m\u001b[0m\n\u001b[1;32m      3\u001b[0m \u001b[0;34m\u001b[0m\u001b[0m\n\u001b[1;32m      4\u001b[0m \u001b[0;31m# Load the pre-trained S-BERT model\u001b[0m\u001b[0;34m\u001b[0m\u001b[0;34m\u001b[0m\u001b[0;34m\u001b[0m\u001b[0m\n\u001b[0;32m----> 5\u001b[0;31m \u001b[0mtokenizer\u001b[0m \u001b[0;34m=\u001b[0m \u001b[0mAutoTokenizer\u001b[0m\u001b[0;34m.\u001b[0m\u001b[0mfrom_pretrained\u001b[0m\u001b[0;34m(\u001b[0m\u001b[0;34m\"sentence-transformers/sentence-transformers-all-distilroberta-v1\"\u001b[0m\u001b[0;34m)\u001b[0m\u001b[0;34m\u001b[0m\u001b[0;34m\u001b[0m\u001b[0m\n\u001b[0m\u001b[1;32m      6\u001b[0m \u001b[0mmodel\u001b[0m \u001b[0;34m=\u001b[0m \u001b[0mAutoModel\u001b[0m\u001b[0;34m.\u001b[0m\u001b[0mfrom_pretrained\u001b[0m\u001b[0;34m(\u001b[0m\u001b[0;34m\"sentence-transformers/sentence-transformers-all-distilroberta-v1\"\u001b[0m\u001b[0;34m)\u001b[0m\u001b[0;34m\u001b[0m\u001b[0;34m\u001b[0m\u001b[0m\n\u001b[1;32m      7\u001b[0m \u001b[0;34m\u001b[0m\u001b[0m\n",
            "\u001b[0;32m/usr/local/lib/python3.8/dist-packages/transformers/models/auto/tokenization_auto.py\u001b[0m in \u001b[0;36mfrom_pretrained\u001b[0;34m(cls, pretrained_model_name_or_path, *inputs, **kwargs)\u001b[0m\n\u001b[1;32m    596\u001b[0m \u001b[0;34m\u001b[0m\u001b[0m\n\u001b[1;32m    597\u001b[0m         \u001b[0;31m# Next, let's try to use the tokenizer_config file to get the tokenizer class.\u001b[0m\u001b[0;34m\u001b[0m\u001b[0;34m\u001b[0m\u001b[0;34m\u001b[0m\u001b[0m\n\u001b[0;32m--> 598\u001b[0;31m         \u001b[0mtokenizer_config\u001b[0m \u001b[0;34m=\u001b[0m \u001b[0mget_tokenizer_config\u001b[0m\u001b[0;34m(\u001b[0m\u001b[0mpretrained_model_name_or_path\u001b[0m\u001b[0;34m,\u001b[0m \u001b[0;34m**\u001b[0m\u001b[0mkwargs\u001b[0m\u001b[0;34m)\u001b[0m\u001b[0;34m\u001b[0m\u001b[0;34m\u001b[0m\u001b[0m\n\u001b[0m\u001b[1;32m    599\u001b[0m         \u001b[0;32mif\u001b[0m \u001b[0;34m\"_commit_hash\"\u001b[0m \u001b[0;32min\u001b[0m \u001b[0mtokenizer_config\u001b[0m\u001b[0;34m:\u001b[0m\u001b[0;34m\u001b[0m\u001b[0;34m\u001b[0m\u001b[0m\n\u001b[1;32m    600\u001b[0m             \u001b[0mkwargs\u001b[0m\u001b[0;34m[\u001b[0m\u001b[0;34m\"_commit_hash\"\u001b[0m\u001b[0;34m]\u001b[0m \u001b[0;34m=\u001b[0m \u001b[0mtokenizer_config\u001b[0m\u001b[0;34m[\u001b[0m\u001b[0;34m\"_commit_hash\"\u001b[0m\u001b[0;34m]\u001b[0m\u001b[0;34m\u001b[0m\u001b[0;34m\u001b[0m\u001b[0m\n",
            "\u001b[0;32m/usr/local/lib/python3.8/dist-packages/transformers/models/auto/tokenization_auto.py\u001b[0m in \u001b[0;36mget_tokenizer_config\u001b[0;34m(pretrained_model_name_or_path, cache_dir, force_download, resume_download, proxies, use_auth_token, revision, local_files_only, subfolder, **kwargs)\u001b[0m\n\u001b[1;32m    440\u001b[0m     ```\"\"\"\n\u001b[1;32m    441\u001b[0m     \u001b[0mcommit_hash\u001b[0m \u001b[0;34m=\u001b[0m \u001b[0mkwargs\u001b[0m\u001b[0;34m.\u001b[0m\u001b[0mget\u001b[0m\u001b[0;34m(\u001b[0m\u001b[0;34m\"_commit_hash\"\u001b[0m\u001b[0;34m,\u001b[0m \u001b[0;32mNone\u001b[0m\u001b[0;34m)\u001b[0m\u001b[0;34m\u001b[0m\u001b[0;34m\u001b[0m\u001b[0m\n\u001b[0;32m--> 442\u001b[0;31m     resolved_config_file = cached_file(\n\u001b[0m\u001b[1;32m    443\u001b[0m         \u001b[0mpretrained_model_name_or_path\u001b[0m\u001b[0;34m,\u001b[0m\u001b[0;34m\u001b[0m\u001b[0;34m\u001b[0m\u001b[0m\n\u001b[1;32m    444\u001b[0m         \u001b[0mTOKENIZER_CONFIG_FILE\u001b[0m\u001b[0;34m,\u001b[0m\u001b[0;34m\u001b[0m\u001b[0;34m\u001b[0m\u001b[0m\n",
            "\u001b[0;32m/usr/local/lib/python3.8/dist-packages/transformers/utils/hub.py\u001b[0m in \u001b[0;36mcached_file\u001b[0;34m(path_or_repo_id, filename, cache_dir, force_download, resume_download, proxies, use_auth_token, revision, local_files_only, subfolder, user_agent, _raise_exceptions_for_missing_entries, _raise_exceptions_for_connection_errors, _commit_hash)\u001b[0m\n\u001b[1;32m    422\u001b[0m \u001b[0;34m\u001b[0m\u001b[0m\n\u001b[1;32m    423\u001b[0m     \u001b[0;32mexcept\u001b[0m \u001b[0mRepositoryNotFoundError\u001b[0m\u001b[0;34m:\u001b[0m\u001b[0;34m\u001b[0m\u001b[0;34m\u001b[0m\u001b[0m\n\u001b[0;32m--> 424\u001b[0;31m         raise EnvironmentError(\n\u001b[0m\u001b[1;32m    425\u001b[0m             \u001b[0;34mf\"{path_or_repo_id} is not a local folder and is not a valid model identifier \"\u001b[0m\u001b[0;34m\u001b[0m\u001b[0;34m\u001b[0m\u001b[0m\n\u001b[1;32m    426\u001b[0m             \u001b[0;34m\"listed on 'https://huggingface.co/models'\\nIf this is a private repository, make sure to \"\u001b[0m\u001b[0;34m\u001b[0m\u001b[0;34m\u001b[0m\u001b[0m\n",
            "\u001b[0;31mOSError\u001b[0m: sentence-transformers/sentence-transformers-all-distilroberta-v1 is not a local folder and is not a valid model identifier listed on 'https://huggingface.co/models'\nIf this is a private repository, make sure to pass a token having permission to this repo with `use_auth_token` or log in with `huggingface-cli login` and pass `use_auth_token=True`."
          ]
        }
      ]
    }
  ]
}